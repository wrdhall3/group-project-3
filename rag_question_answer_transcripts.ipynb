{
  "cells": [
    {
      "cell_type": "code",
      "execution_count": 1,
      "metadata": {
        "colab": {
          "base_uri": "https://localhost:8080/"
        },
        "id": "BO_zOmv0C4n3",
        "outputId": "4bcc46c8-8ad8-4d59-83a1-69d51e25e569"
      },
      "outputs": [
        {
          "output_type": "stream",
          "name": "stdout",
          "text": [
            "Requirement already satisfied: openai in /usr/local/lib/python3.11/dist-packages (1.61.1)\n",
            "Requirement already satisfied: anyio<5,>=3.5.0 in /usr/local/lib/python3.11/dist-packages (from openai) (3.7.1)\n",
            "Requirement already satisfied: distro<2,>=1.7.0 in /usr/local/lib/python3.11/dist-packages (from openai) (1.9.0)\n",
            "Requirement already satisfied: httpx<1,>=0.23.0 in /usr/local/lib/python3.11/dist-packages (from openai) (0.28.1)\n",
            "Requirement already satisfied: jiter<1,>=0.4.0 in /usr/local/lib/python3.11/dist-packages (from openai) (0.8.2)\n",
            "Requirement already satisfied: pydantic<3,>=1.9.0 in /usr/local/lib/python3.11/dist-packages (from openai) (2.10.6)\n",
            "Requirement already satisfied: sniffio in /usr/local/lib/python3.11/dist-packages (from openai) (1.3.1)\n",
            "Requirement already satisfied: tqdm>4 in /usr/local/lib/python3.11/dist-packages (from openai) (4.67.1)\n",
            "Requirement already satisfied: typing-extensions<5,>=4.11 in /usr/local/lib/python3.11/dist-packages (from openai) (4.12.2)\n",
            "Requirement already satisfied: idna>=2.8 in /usr/local/lib/python3.11/dist-packages (from anyio<5,>=3.5.0->openai) (3.10)\n",
            "Requirement already satisfied: certifi in /usr/local/lib/python3.11/dist-packages (from httpx<1,>=0.23.0->openai) (2025.1.31)\n",
            "Requirement already satisfied: httpcore==1.* in /usr/local/lib/python3.11/dist-packages (from httpx<1,>=0.23.0->openai) (1.0.7)\n",
            "Requirement already satisfied: h11<0.15,>=0.13 in /usr/local/lib/python3.11/dist-packages (from httpcore==1.*->httpx<1,>=0.23.0->openai) (0.14.0)\n",
            "Requirement already satisfied: annotated-types>=0.6.0 in /usr/local/lib/python3.11/dist-packages (from pydantic<3,>=1.9.0->openai) (0.7.0)\n",
            "Requirement already satisfied: pydantic-core==2.27.2 in /usr/local/lib/python3.11/dist-packages (from pydantic<3,>=1.9.0->openai) (2.27.2)\n",
            "Requirement already satisfied: chromadb in /usr/local/lib/python3.11/dist-packages (0.6.3)\n",
            "Requirement already satisfied: build>=1.0.3 in /usr/local/lib/python3.11/dist-packages (from chromadb) (1.2.2.post1)\n",
            "Requirement already satisfied: pydantic>=1.9 in /usr/local/lib/python3.11/dist-packages (from chromadb) (2.10.6)\n",
            "Requirement already satisfied: chroma-hnswlib==0.7.6 in /usr/local/lib/python3.11/dist-packages (from chromadb) (0.7.6)\n",
            "Requirement already satisfied: fastapi>=0.95.2 in /usr/local/lib/python3.11/dist-packages (from chromadb) (0.115.11)\n",
            "Requirement already satisfied: uvicorn>=0.18.3 in /usr/local/lib/python3.11/dist-packages (from uvicorn[standard]>=0.18.3->chromadb) (0.34.0)\n",
            "Requirement already satisfied: numpy>=1.22.5 in /usr/local/lib/python3.11/dist-packages (from chromadb) (1.26.4)\n",
            "Requirement already satisfied: posthog>=2.4.0 in /usr/local/lib/python3.11/dist-packages (from chromadb) (3.19.1)\n",
            "Requirement already satisfied: typing_extensions>=4.5.0 in /usr/local/lib/python3.11/dist-packages (from chromadb) (4.12.2)\n",
            "Requirement already satisfied: onnxruntime>=1.14.1 in /usr/local/lib/python3.11/dist-packages (from chromadb) (1.21.0)\n",
            "Requirement already satisfied: opentelemetry-api>=1.2.0 in /usr/local/lib/python3.11/dist-packages (from chromadb) (1.30.0)\n",
            "Requirement already satisfied: opentelemetry-exporter-otlp-proto-grpc>=1.2.0 in /usr/local/lib/python3.11/dist-packages (from chromadb) (1.30.0)\n",
            "Requirement already satisfied: opentelemetry-instrumentation-fastapi>=0.41b0 in /usr/local/lib/python3.11/dist-packages (from chromadb) (0.51b0)\n",
            "Requirement already satisfied: opentelemetry-sdk>=1.2.0 in /usr/local/lib/python3.11/dist-packages (from chromadb) (1.30.0)\n",
            "Requirement already satisfied: tokenizers>=0.13.2 in /usr/local/lib/python3.11/dist-packages (from chromadb) (0.21.0)\n",
            "Requirement already satisfied: pypika>=0.48.9 in /usr/local/lib/python3.11/dist-packages (from chromadb) (0.48.9)\n",
            "Requirement already satisfied: tqdm>=4.65.0 in /usr/local/lib/python3.11/dist-packages (from chromadb) (4.67.1)\n",
            "Requirement already satisfied: overrides>=7.3.1 in /usr/local/lib/python3.11/dist-packages (from chromadb) (7.7.0)\n",
            "Requirement already satisfied: importlib-resources in /usr/local/lib/python3.11/dist-packages (from chromadb) (6.5.2)\n",
            "Requirement already satisfied: grpcio>=1.58.0 in /usr/local/lib/python3.11/dist-packages (from chromadb) (1.70.0)\n",
            "Requirement already satisfied: bcrypt>=4.0.1 in /usr/local/lib/python3.11/dist-packages (from chromadb) (4.3.0)\n",
            "Requirement already satisfied: typer>=0.9.0 in /usr/local/lib/python3.11/dist-packages (from chromadb) (0.15.2)\n",
            "Requirement already satisfied: kubernetes>=28.1.0 in /usr/local/lib/python3.11/dist-packages (from chromadb) (32.0.1)\n",
            "Requirement already satisfied: tenacity>=8.2.3 in /usr/local/lib/python3.11/dist-packages (from chromadb) (9.0.0)\n",
            "Requirement already satisfied: PyYAML>=6.0.0 in /usr/local/lib/python3.11/dist-packages (from chromadb) (6.0.2)\n",
            "Requirement already satisfied: mmh3>=4.0.1 in /usr/local/lib/python3.11/dist-packages (from chromadb) (5.1.0)\n",
            "Requirement already satisfied: orjson>=3.9.12 in /usr/local/lib/python3.11/dist-packages (from chromadb) (3.10.15)\n",
            "Requirement already satisfied: httpx>=0.27.0 in /usr/local/lib/python3.11/dist-packages (from chromadb) (0.28.1)\n",
            "Requirement already satisfied: rich>=10.11.0 in /usr/local/lib/python3.11/dist-packages (from chromadb) (13.9.4)\n",
            "Requirement already satisfied: packaging>=19.1 in /usr/local/lib/python3.11/dist-packages (from build>=1.0.3->chromadb) (24.2)\n",
            "Requirement already satisfied: pyproject_hooks in /usr/local/lib/python3.11/dist-packages (from build>=1.0.3->chromadb) (1.2.0)\n",
            "Requirement already satisfied: starlette<0.47.0,>=0.40.0 in /usr/local/lib/python3.11/dist-packages (from fastapi>=0.95.2->chromadb) (0.46.1)\n",
            "Requirement already satisfied: anyio in /usr/local/lib/python3.11/dist-packages (from httpx>=0.27.0->chromadb) (3.7.1)\n",
            "Requirement already satisfied: certifi in /usr/local/lib/python3.11/dist-packages (from httpx>=0.27.0->chromadb) (2025.1.31)\n",
            "Requirement already satisfied: httpcore==1.* in /usr/local/lib/python3.11/dist-packages (from httpx>=0.27.0->chromadb) (1.0.7)\n",
            "Requirement already satisfied: idna in /usr/local/lib/python3.11/dist-packages (from httpx>=0.27.0->chromadb) (3.10)\n",
            "Requirement already satisfied: h11<0.15,>=0.13 in /usr/local/lib/python3.11/dist-packages (from httpcore==1.*->httpx>=0.27.0->chromadb) (0.14.0)\n",
            "Requirement already satisfied: six>=1.9.0 in /usr/local/lib/python3.11/dist-packages (from kubernetes>=28.1.0->chromadb) (1.17.0)\n",
            "Requirement already satisfied: python-dateutil>=2.5.3 in /usr/local/lib/python3.11/dist-packages (from kubernetes>=28.1.0->chromadb) (2.8.2)\n",
            "Requirement already satisfied: google-auth>=1.0.1 in /usr/local/lib/python3.11/dist-packages (from kubernetes>=28.1.0->chromadb) (2.38.0)\n",
            "Requirement already satisfied: websocket-client!=0.40.0,!=0.41.*,!=0.42.*,>=0.32.0 in /usr/local/lib/python3.11/dist-packages (from kubernetes>=28.1.0->chromadb) (1.8.0)\n",
            "Requirement already satisfied: requests in /usr/local/lib/python3.11/dist-packages (from kubernetes>=28.1.0->chromadb) (2.32.3)\n",
            "Requirement already satisfied: requests-oauthlib in /usr/local/lib/python3.11/dist-packages (from kubernetes>=28.1.0->chromadb) (2.0.0)\n",
            "Requirement already satisfied: oauthlib>=3.2.2 in /usr/local/lib/python3.11/dist-packages (from kubernetes>=28.1.0->chromadb) (3.2.2)\n",
            "Requirement already satisfied: urllib3>=1.24.2 in /usr/local/lib/python3.11/dist-packages (from kubernetes>=28.1.0->chromadb) (2.3.0)\n",
            "Requirement already satisfied: durationpy>=0.7 in /usr/local/lib/python3.11/dist-packages (from kubernetes>=28.1.0->chromadb) (0.9)\n",
            "Requirement already satisfied: coloredlogs in /usr/local/lib/python3.11/dist-packages (from onnxruntime>=1.14.1->chromadb) (15.0.1)\n",
            "Requirement already satisfied: flatbuffers in /usr/local/lib/python3.11/dist-packages (from onnxruntime>=1.14.1->chromadb) (25.2.10)\n",
            "Requirement already satisfied: protobuf in /usr/local/lib/python3.11/dist-packages (from onnxruntime>=1.14.1->chromadb) (5.29.3)\n",
            "Requirement already satisfied: sympy in /usr/local/lib/python3.11/dist-packages (from onnxruntime>=1.14.1->chromadb) (1.13.1)\n",
            "Requirement already satisfied: deprecated>=1.2.6 in /usr/local/lib/python3.11/dist-packages (from opentelemetry-api>=1.2.0->chromadb) (1.2.18)\n",
            "Requirement already satisfied: importlib-metadata<=8.5.0,>=6.0 in /usr/local/lib/python3.11/dist-packages (from opentelemetry-api>=1.2.0->chromadb) (8.5.0)\n",
            "Requirement already satisfied: googleapis-common-protos~=1.52 in /usr/local/lib/python3.11/dist-packages (from opentelemetry-exporter-otlp-proto-grpc>=1.2.0->chromadb) (1.69.1)\n",
            "Requirement already satisfied: opentelemetry-exporter-otlp-proto-common==1.30.0 in /usr/local/lib/python3.11/dist-packages (from opentelemetry-exporter-otlp-proto-grpc>=1.2.0->chromadb) (1.30.0)\n",
            "Requirement already satisfied: opentelemetry-proto==1.30.0 in /usr/local/lib/python3.11/dist-packages (from opentelemetry-exporter-otlp-proto-grpc>=1.2.0->chromadb) (1.30.0)\n",
            "Requirement already satisfied: opentelemetry-instrumentation-asgi==0.51b0 in /usr/local/lib/python3.11/dist-packages (from opentelemetry-instrumentation-fastapi>=0.41b0->chromadb) (0.51b0)\n",
            "Requirement already satisfied: opentelemetry-instrumentation==0.51b0 in /usr/local/lib/python3.11/dist-packages (from opentelemetry-instrumentation-fastapi>=0.41b0->chromadb) (0.51b0)\n",
            "Requirement already satisfied: opentelemetry-semantic-conventions==0.51b0 in /usr/local/lib/python3.11/dist-packages (from opentelemetry-instrumentation-fastapi>=0.41b0->chromadb) (0.51b0)\n",
            "Requirement already satisfied: opentelemetry-util-http==0.51b0 in /usr/local/lib/python3.11/dist-packages (from opentelemetry-instrumentation-fastapi>=0.41b0->chromadb) (0.51b0)\n",
            "Requirement already satisfied: wrapt<2.0.0,>=1.0.0 in /usr/local/lib/python3.11/dist-packages (from opentelemetry-instrumentation==0.51b0->opentelemetry-instrumentation-fastapi>=0.41b0->chromadb) (1.17.2)\n",
            "Requirement already satisfied: asgiref~=3.0 in /usr/local/lib/python3.11/dist-packages (from opentelemetry-instrumentation-asgi==0.51b0->opentelemetry-instrumentation-fastapi>=0.41b0->chromadb) (3.8.1)\n",
            "Requirement already satisfied: monotonic>=1.5 in /usr/local/lib/python3.11/dist-packages (from posthog>=2.4.0->chromadb) (1.6)\n",
            "Requirement already satisfied: backoff>=1.10.0 in /usr/local/lib/python3.11/dist-packages (from posthog>=2.4.0->chromadb) (2.2.1)\n",
            "Requirement already satisfied: distro>=1.5.0 in /usr/local/lib/python3.11/dist-packages (from posthog>=2.4.0->chromadb) (1.9.0)\n",
            "Requirement already satisfied: annotated-types>=0.6.0 in /usr/local/lib/python3.11/dist-packages (from pydantic>=1.9->chromadb) (0.7.0)\n",
            "Requirement already satisfied: pydantic-core==2.27.2 in /usr/local/lib/python3.11/dist-packages (from pydantic>=1.9->chromadb) (2.27.2)\n",
            "Requirement already satisfied: markdown-it-py>=2.2.0 in /usr/local/lib/python3.11/dist-packages (from rich>=10.11.0->chromadb) (3.0.0)\n",
            "Requirement already satisfied: pygments<3.0.0,>=2.13.0 in /usr/local/lib/python3.11/dist-packages (from rich>=10.11.0->chromadb) (2.18.0)\n",
            "Requirement already satisfied: huggingface-hub<1.0,>=0.16.4 in /usr/local/lib/python3.11/dist-packages (from tokenizers>=0.13.2->chromadb) (0.28.1)\n",
            "Requirement already satisfied: click>=8.0.0 in /usr/local/lib/python3.11/dist-packages (from typer>=0.9.0->chromadb) (8.1.8)\n",
            "Requirement already satisfied: shellingham>=1.3.0 in /usr/local/lib/python3.11/dist-packages (from typer>=0.9.0->chromadb) (1.5.4)\n",
            "Requirement already satisfied: httptools>=0.6.3 in /usr/local/lib/python3.11/dist-packages (from uvicorn[standard]>=0.18.3->chromadb) (0.6.4)\n",
            "Requirement already satisfied: python-dotenv>=0.13 in /usr/local/lib/python3.11/dist-packages (from uvicorn[standard]>=0.18.3->chromadb) (1.0.1)\n",
            "Requirement already satisfied: uvloop!=0.15.0,!=0.15.1,>=0.14.0 in /usr/local/lib/python3.11/dist-packages (from uvicorn[standard]>=0.18.3->chromadb) (0.21.0)\n",
            "Requirement already satisfied: watchfiles>=0.13 in /usr/local/lib/python3.11/dist-packages (from uvicorn[standard]>=0.18.3->chromadb) (1.0.4)\n",
            "Requirement already satisfied: websockets>=10.4 in /usr/local/lib/python3.11/dist-packages (from uvicorn[standard]>=0.18.3->chromadb) (14.2)\n",
            "Requirement already satisfied: cachetools<6.0,>=2.0.0 in /usr/local/lib/python3.11/dist-packages (from google-auth>=1.0.1->kubernetes>=28.1.0->chromadb) (5.5.2)\n",
            "Requirement already satisfied: pyasn1-modules>=0.2.1 in /usr/local/lib/python3.11/dist-packages (from google-auth>=1.0.1->kubernetes>=28.1.0->chromadb) (0.4.1)\n",
            "Requirement already satisfied: rsa<5,>=3.1.4 in /usr/local/lib/python3.11/dist-packages (from google-auth>=1.0.1->kubernetes>=28.1.0->chromadb) (4.9)\n",
            "Requirement already satisfied: filelock in /usr/local/lib/python3.11/dist-packages (from huggingface-hub<1.0,>=0.16.4->tokenizers>=0.13.2->chromadb) (3.17.0)\n",
            "Requirement already satisfied: fsspec>=2023.5.0 in /usr/local/lib/python3.11/dist-packages (from huggingface-hub<1.0,>=0.16.4->tokenizers>=0.13.2->chromadb) (2024.10.0)\n",
            "Requirement already satisfied: zipp>=3.20 in /usr/local/lib/python3.11/dist-packages (from importlib-metadata<=8.5.0,>=6.0->opentelemetry-api>=1.2.0->chromadb) (3.21.0)\n",
            "Requirement already satisfied: mdurl~=0.1 in /usr/local/lib/python3.11/dist-packages (from markdown-it-py>=2.2.0->rich>=10.11.0->chromadb) (0.1.2)\n",
            "Requirement already satisfied: charset-normalizer<4,>=2 in /usr/local/lib/python3.11/dist-packages (from requests->kubernetes>=28.1.0->chromadb) (3.4.1)\n",
            "Requirement already satisfied: sniffio>=1.1 in /usr/local/lib/python3.11/dist-packages (from anyio->httpx>=0.27.0->chromadb) (1.3.1)\n",
            "Requirement already satisfied: humanfriendly>=9.1 in /usr/local/lib/python3.11/dist-packages (from coloredlogs->onnxruntime>=1.14.1->chromadb) (10.0)\n",
            "Requirement already satisfied: mpmath<1.4,>=1.1.0 in /usr/local/lib/python3.11/dist-packages (from sympy->onnxruntime>=1.14.1->chromadb) (1.3.0)\n",
            "Requirement already satisfied: pyasn1<0.7.0,>=0.4.6 in /usr/local/lib/python3.11/dist-packages (from pyasn1-modules>=0.2.1->google-auth>=1.0.1->kubernetes>=28.1.0->chromadb) (0.6.1)\n",
            "Collecting tiktoken\n",
            "  Using cached tiktoken-0.9.0-cp311-cp311-manylinux_2_17_x86_64.manylinux2014_x86_64.whl.metadata (6.7 kB)\n",
            "Requirement already satisfied: regex>=2022.1.18 in /usr/local/lib/python3.11/dist-packages (from tiktoken) (2024.11.6)\n",
            "Requirement already satisfied: requests>=2.26.0 in /usr/local/lib/python3.11/dist-packages (from tiktoken) (2.32.3)\n",
            "Requirement already satisfied: charset-normalizer<4,>=2 in /usr/local/lib/python3.11/dist-packages (from requests>=2.26.0->tiktoken) (3.4.1)\n",
            "Requirement already satisfied: idna<4,>=2.5 in /usr/local/lib/python3.11/dist-packages (from requests>=2.26.0->tiktoken) (3.10)\n",
            "Requirement already satisfied: urllib3<3,>=1.21.1 in /usr/local/lib/python3.11/dist-packages (from requests>=2.26.0->tiktoken) (2.3.0)\n",
            "Requirement already satisfied: certifi>=2017.4.17 in /usr/local/lib/python3.11/dist-packages (from requests>=2.26.0->tiktoken) (2025.1.31)\n",
            "Using cached tiktoken-0.9.0-cp311-cp311-manylinux_2_17_x86_64.manylinux2014_x86_64.whl (1.2 MB)\n",
            "Installing collected packages: tiktoken\n",
            "Successfully installed tiktoken-0.9.0\n",
            "Requirement already satisfied: langchain in /usr/local/lib/python3.11/dist-packages (0.3.20)\n",
            "Requirement already satisfied: langchain-core<1.0.0,>=0.3.41 in /usr/local/lib/python3.11/dist-packages (from langchain) (0.3.43)\n",
            "Requirement already satisfied: langchain-text-splitters<1.0.0,>=0.3.6 in /usr/local/lib/python3.11/dist-packages (from langchain) (0.3.6)\n",
            "Requirement already satisfied: langsmith<0.4,>=0.1.17 in /usr/local/lib/python3.11/dist-packages (from langchain) (0.3.13)\n",
            "Requirement already satisfied: pydantic<3.0.0,>=2.7.4 in /usr/local/lib/python3.11/dist-packages (from langchain) (2.10.6)\n",
            "Requirement already satisfied: SQLAlchemy<3,>=1.4 in /usr/local/lib/python3.11/dist-packages (from langchain) (2.0.38)\n",
            "Requirement already satisfied: requests<3,>=2 in /usr/local/lib/python3.11/dist-packages (from langchain) (2.32.3)\n",
            "Requirement already satisfied: PyYAML>=5.3 in /usr/local/lib/python3.11/dist-packages (from langchain) (6.0.2)\n",
            "Requirement already satisfied: tenacity!=8.4.0,<10.0.0,>=8.1.0 in /usr/local/lib/python3.11/dist-packages (from langchain-core<1.0.0,>=0.3.41->langchain) (9.0.0)\n",
            "Requirement already satisfied: jsonpatch<2.0,>=1.33 in /usr/local/lib/python3.11/dist-packages (from langchain-core<1.0.0,>=0.3.41->langchain) (1.33)\n",
            "Requirement already satisfied: packaging<25,>=23.2 in /usr/local/lib/python3.11/dist-packages (from langchain-core<1.0.0,>=0.3.41->langchain) (24.2)\n",
            "Requirement already satisfied: typing-extensions>=4.7 in /usr/local/lib/python3.11/dist-packages (from langchain-core<1.0.0,>=0.3.41->langchain) (4.12.2)\n",
            "Requirement already satisfied: httpx<1,>=0.23.0 in /usr/local/lib/python3.11/dist-packages (from langsmith<0.4,>=0.1.17->langchain) (0.28.1)\n",
            "Requirement already satisfied: orjson<4.0.0,>=3.9.14 in /usr/local/lib/python3.11/dist-packages (from langsmith<0.4,>=0.1.17->langchain) (3.10.15)\n",
            "Requirement already satisfied: requests-toolbelt<2.0.0,>=1.0.0 in /usr/local/lib/python3.11/dist-packages (from langsmith<0.4,>=0.1.17->langchain) (1.0.0)\n",
            "Requirement already satisfied: zstandard<0.24.0,>=0.23.0 in /usr/local/lib/python3.11/dist-packages (from langsmith<0.4,>=0.1.17->langchain) (0.23.0)\n",
            "Requirement already satisfied: annotated-types>=0.6.0 in /usr/local/lib/python3.11/dist-packages (from pydantic<3.0.0,>=2.7.4->langchain) (0.7.0)\n",
            "Requirement already satisfied: pydantic-core==2.27.2 in /usr/local/lib/python3.11/dist-packages (from pydantic<3.0.0,>=2.7.4->langchain) (2.27.2)\n",
            "Requirement already satisfied: charset-normalizer<4,>=2 in /usr/local/lib/python3.11/dist-packages (from requests<3,>=2->langchain) (3.4.1)\n",
            "Requirement already satisfied: idna<4,>=2.5 in /usr/local/lib/python3.11/dist-packages (from requests<3,>=2->langchain) (3.10)\n",
            "Requirement already satisfied: urllib3<3,>=1.21.1 in /usr/local/lib/python3.11/dist-packages (from requests<3,>=2->langchain) (2.3.0)\n",
            "Requirement already satisfied: certifi>=2017.4.17 in /usr/local/lib/python3.11/dist-packages (from requests<3,>=2->langchain) (2025.1.31)\n",
            "Requirement already satisfied: greenlet!=0.4.17 in /usr/local/lib/python3.11/dist-packages (from SQLAlchemy<3,>=1.4->langchain) (3.1.1)\n",
            "Requirement already satisfied: anyio in /usr/local/lib/python3.11/dist-packages (from httpx<1,>=0.23.0->langsmith<0.4,>=0.1.17->langchain) (3.7.1)\n",
            "Requirement already satisfied: httpcore==1.* in /usr/local/lib/python3.11/dist-packages (from httpx<1,>=0.23.0->langsmith<0.4,>=0.1.17->langchain) (1.0.7)\n",
            "Requirement already satisfied: h11<0.15,>=0.13 in /usr/local/lib/python3.11/dist-packages (from httpcore==1.*->httpx<1,>=0.23.0->langsmith<0.4,>=0.1.17->langchain) (0.14.0)\n",
            "Requirement already satisfied: jsonpointer>=1.9 in /usr/local/lib/python3.11/dist-packages (from jsonpatch<2.0,>=1.33->langchain-core<1.0.0,>=0.3.41->langchain) (3.0.0)\n",
            "Requirement already satisfied: sniffio>=1.1 in /usr/local/lib/python3.11/dist-packages (from anyio->httpx<1,>=0.23.0->langsmith<0.4,>=0.1.17->langchain) (1.3.1)\n",
            "Collecting langchain-community\n",
            "  Downloading langchain_community-0.3.19-py3-none-any.whl.metadata (2.4 kB)\n",
            "Requirement already satisfied: langchain-core<1.0.0,>=0.3.41 in /usr/local/lib/python3.11/dist-packages (from langchain-community) (0.3.43)\n",
            "Requirement already satisfied: langchain<1.0.0,>=0.3.20 in /usr/local/lib/python3.11/dist-packages (from langchain-community) (0.3.20)\n",
            "Requirement already satisfied: SQLAlchemy<3,>=1.4 in /usr/local/lib/python3.11/dist-packages (from langchain-community) (2.0.38)\n",
            "Requirement already satisfied: requests<3,>=2 in /usr/local/lib/python3.11/dist-packages (from langchain-community) (2.32.3)\n",
            "Requirement already satisfied: PyYAML>=5.3 in /usr/local/lib/python3.11/dist-packages (from langchain-community) (6.0.2)\n",
            "Requirement already satisfied: aiohttp<4.0.0,>=3.8.3 in /usr/local/lib/python3.11/dist-packages (from langchain-community) (3.11.13)\n",
            "Requirement already satisfied: tenacity!=8.4.0,<10,>=8.1.0 in /usr/local/lib/python3.11/dist-packages (from langchain-community) (9.0.0)\n",
            "Collecting dataclasses-json<0.7,>=0.5.7 (from langchain-community)\n",
            "  Downloading dataclasses_json-0.6.7-py3-none-any.whl.metadata (25 kB)\n",
            "Collecting pydantic-settings<3.0.0,>=2.4.0 (from langchain-community)\n",
            "  Downloading pydantic_settings-2.8.1-py3-none-any.whl.metadata (3.5 kB)\n",
            "Requirement already satisfied: langsmith<0.4,>=0.1.125 in /usr/local/lib/python3.11/dist-packages (from langchain-community) (0.3.13)\n",
            "Collecting httpx-sse<1.0.0,>=0.4.0 (from langchain-community)\n",
            "  Downloading httpx_sse-0.4.0-py3-none-any.whl.metadata (9.0 kB)\n",
            "Requirement already satisfied: numpy<3,>=1.26.2 in /usr/local/lib/python3.11/dist-packages (from langchain-community) (1.26.4)\n",
            "Requirement already satisfied: aiohappyeyeballs>=2.3.0 in /usr/local/lib/python3.11/dist-packages (from aiohttp<4.0.0,>=3.8.3->langchain-community) (2.5.0)\n",
            "Requirement already satisfied: aiosignal>=1.1.2 in /usr/local/lib/python3.11/dist-packages (from aiohttp<4.0.0,>=3.8.3->langchain-community) (1.3.2)\n",
            "Requirement already satisfied: attrs>=17.3.0 in /usr/local/lib/python3.11/dist-packages (from aiohttp<4.0.0,>=3.8.3->langchain-community) (25.1.0)\n",
            "Requirement already satisfied: frozenlist>=1.1.1 in /usr/local/lib/python3.11/dist-packages (from aiohttp<4.0.0,>=3.8.3->langchain-community) (1.5.0)\n",
            "Requirement already satisfied: multidict<7.0,>=4.5 in /usr/local/lib/python3.11/dist-packages (from aiohttp<4.0.0,>=3.8.3->langchain-community) (6.1.0)\n",
            "Requirement already satisfied: propcache>=0.2.0 in /usr/local/lib/python3.11/dist-packages (from aiohttp<4.0.0,>=3.8.3->langchain-community) (0.3.0)\n",
            "Requirement already satisfied: yarl<2.0,>=1.17.0 in /usr/local/lib/python3.11/dist-packages (from aiohttp<4.0.0,>=3.8.3->langchain-community) (1.18.3)\n",
            "Collecting marshmallow<4.0.0,>=3.18.0 (from dataclasses-json<0.7,>=0.5.7->langchain-community)\n",
            "  Downloading marshmallow-3.26.1-py3-none-any.whl.metadata (7.3 kB)\n",
            "Collecting typing-inspect<1,>=0.4.0 (from dataclasses-json<0.7,>=0.5.7->langchain-community)\n",
            "  Downloading typing_inspect-0.9.0-py3-none-any.whl.metadata (1.5 kB)\n",
            "Requirement already satisfied: langchain-text-splitters<1.0.0,>=0.3.6 in /usr/local/lib/python3.11/dist-packages (from langchain<1.0.0,>=0.3.20->langchain-community) (0.3.6)\n",
            "Requirement already satisfied: pydantic<3.0.0,>=2.7.4 in /usr/local/lib/python3.11/dist-packages (from langchain<1.0.0,>=0.3.20->langchain-community) (2.10.6)\n",
            "Requirement already satisfied: jsonpatch<2.0,>=1.33 in /usr/local/lib/python3.11/dist-packages (from langchain-core<1.0.0,>=0.3.41->langchain-community) (1.33)\n",
            "Requirement already satisfied: packaging<25,>=23.2 in /usr/local/lib/python3.11/dist-packages (from langchain-core<1.0.0,>=0.3.41->langchain-community) (24.2)\n",
            "Requirement already satisfied: typing-extensions>=4.7 in /usr/local/lib/python3.11/dist-packages (from langchain-core<1.0.0,>=0.3.41->langchain-community) (4.12.2)\n",
            "Requirement already satisfied: httpx<1,>=0.23.0 in /usr/local/lib/python3.11/dist-packages (from langsmith<0.4,>=0.1.125->langchain-community) (0.28.1)\n",
            "Requirement already satisfied: orjson<4.0.0,>=3.9.14 in /usr/local/lib/python3.11/dist-packages (from langsmith<0.4,>=0.1.125->langchain-community) (3.10.15)\n",
            "Requirement already satisfied: requests-toolbelt<2.0.0,>=1.0.0 in /usr/local/lib/python3.11/dist-packages (from langsmith<0.4,>=0.1.125->langchain-community) (1.0.0)\n",
            "Requirement already satisfied: zstandard<0.24.0,>=0.23.0 in /usr/local/lib/python3.11/dist-packages (from langsmith<0.4,>=0.1.125->langchain-community) (0.23.0)\n",
            "Requirement already satisfied: python-dotenv>=0.21.0 in /usr/local/lib/python3.11/dist-packages (from pydantic-settings<3.0.0,>=2.4.0->langchain-community) (1.0.1)\n",
            "Requirement already satisfied: charset-normalizer<4,>=2 in /usr/local/lib/python3.11/dist-packages (from requests<3,>=2->langchain-community) (3.4.1)\n",
            "Requirement already satisfied: idna<4,>=2.5 in /usr/local/lib/python3.11/dist-packages (from requests<3,>=2->langchain-community) (3.10)\n",
            "Requirement already satisfied: urllib3<3,>=1.21.1 in /usr/local/lib/python3.11/dist-packages (from requests<3,>=2->langchain-community) (2.3.0)\n",
            "Requirement already satisfied: certifi>=2017.4.17 in /usr/local/lib/python3.11/dist-packages (from requests<3,>=2->langchain-community) (2025.1.31)\n",
            "Requirement already satisfied: greenlet!=0.4.17 in /usr/local/lib/python3.11/dist-packages (from SQLAlchemy<3,>=1.4->langchain-community) (3.1.1)\n",
            "Requirement already satisfied: anyio in /usr/local/lib/python3.11/dist-packages (from httpx<1,>=0.23.0->langsmith<0.4,>=0.1.125->langchain-community) (3.7.1)\n",
            "Requirement already satisfied: httpcore==1.* in /usr/local/lib/python3.11/dist-packages (from httpx<1,>=0.23.0->langsmith<0.4,>=0.1.125->langchain-community) (1.0.7)\n",
            "Requirement already satisfied: h11<0.15,>=0.13 in /usr/local/lib/python3.11/dist-packages (from httpcore==1.*->httpx<1,>=0.23.0->langsmith<0.4,>=0.1.125->langchain-community) (0.14.0)\n",
            "Requirement already satisfied: jsonpointer>=1.9 in /usr/local/lib/python3.11/dist-packages (from jsonpatch<2.0,>=1.33->langchain-core<1.0.0,>=0.3.41->langchain-community) (3.0.0)\n",
            "Requirement already satisfied: annotated-types>=0.6.0 in /usr/local/lib/python3.11/dist-packages (from pydantic<3.0.0,>=2.7.4->langchain<1.0.0,>=0.3.20->langchain-community) (0.7.0)\n",
            "Requirement already satisfied: pydantic-core==2.27.2 in /usr/local/lib/python3.11/dist-packages (from pydantic<3.0.0,>=2.7.4->langchain<1.0.0,>=0.3.20->langchain-community) (2.27.2)\n",
            "Collecting mypy-extensions>=0.3.0 (from typing-inspect<1,>=0.4.0->dataclasses-json<0.7,>=0.5.7->langchain-community)\n",
            "  Downloading mypy_extensions-1.0.0-py3-none-any.whl.metadata (1.1 kB)\n",
            "Requirement already satisfied: sniffio>=1.1 in /usr/local/lib/python3.11/dist-packages (from anyio->httpx<1,>=0.23.0->langsmith<0.4,>=0.1.125->langchain-community) (1.3.1)\n",
            "Downloading langchain_community-0.3.19-py3-none-any.whl (2.5 MB)\n",
            "\u001b[2K   \u001b[90m━━━━━━━━━━━━━━━━━━━━━━━━━━━━━━━━━━━━━━━━\u001b[0m \u001b[32m2.5/2.5 MB\u001b[0m \u001b[31m67.4 MB/s\u001b[0m eta \u001b[36m0:00:00\u001b[0m\n",
            "\u001b[?25hDownloading dataclasses_json-0.6.7-py3-none-any.whl (28 kB)\n",
            "Downloading httpx_sse-0.4.0-py3-none-any.whl (7.8 kB)\n",
            "Downloading pydantic_settings-2.8.1-py3-none-any.whl (30 kB)\n",
            "Downloading marshmallow-3.26.1-py3-none-any.whl (50 kB)\n",
            "\u001b[2K   \u001b[90m━━━━━━━━━━━━━━━━━━━━━━━━━━━━━━━━━━━━━━━━\u001b[0m \u001b[32m50.9/50.9 kB\u001b[0m \u001b[31m4.2 MB/s\u001b[0m eta \u001b[36m0:00:00\u001b[0m\n",
            "\u001b[?25hDownloading typing_inspect-0.9.0-py3-none-any.whl (8.8 kB)\n",
            "Downloading mypy_extensions-1.0.0-py3-none-any.whl (4.7 kB)\n",
            "Installing collected packages: mypy-extensions, marshmallow, httpx-sse, typing-inspect, pydantic-settings, dataclasses-json, langchain-community\n",
            "Successfully installed dataclasses-json-0.6.7 httpx-sse-0.4.0 langchain-community-0.3.19 marshmallow-3.26.1 mypy-extensions-1.0.0 pydantic-settings-2.8.1 typing-inspect-0.9.0\n",
            "Collecting gradio\n",
            "  Downloading gradio-5.20.1-py3-none-any.whl.metadata (16 kB)\n",
            "Collecting aiofiles<24.0,>=22.0 (from gradio)\n",
            "  Downloading aiofiles-23.2.1-py3-none-any.whl.metadata (9.7 kB)\n",
            "Requirement already satisfied: anyio<5.0,>=3.0 in /usr/local/lib/python3.11/dist-packages (from gradio) (3.7.1)\n",
            "Requirement already satisfied: fastapi<1.0,>=0.115.2 in /usr/local/lib/python3.11/dist-packages (from gradio) (0.115.11)\n",
            "Collecting ffmpy (from gradio)\n",
            "  Downloading ffmpy-0.5.0-py3-none-any.whl.metadata (3.0 kB)\n",
            "Collecting gradio-client==1.7.2 (from gradio)\n",
            "  Downloading gradio_client-1.7.2-py3-none-any.whl.metadata (7.1 kB)\n",
            "Collecting groovy~=0.1 (from gradio)\n",
            "  Downloading groovy-0.1.2-py3-none-any.whl.metadata (6.1 kB)\n",
            "Requirement already satisfied: httpx>=0.24.1 in /usr/local/lib/python3.11/dist-packages (from gradio) (0.28.1)\n",
            "Requirement already satisfied: huggingface-hub>=0.28.1 in /usr/local/lib/python3.11/dist-packages (from gradio) (0.28.1)\n",
            "Requirement already satisfied: jinja2<4.0 in /usr/local/lib/python3.11/dist-packages (from gradio) (3.1.6)\n",
            "Collecting markupsafe~=2.0 (from gradio)\n",
            "  Downloading MarkupSafe-2.1.5-cp311-cp311-manylinux_2_17_x86_64.manylinux2014_x86_64.whl.metadata (3.0 kB)\n",
            "Requirement already satisfied: numpy<3.0,>=1.0 in /usr/local/lib/python3.11/dist-packages (from gradio) (1.26.4)\n",
            "Requirement already satisfied: orjson~=3.0 in /usr/local/lib/python3.11/dist-packages (from gradio) (3.10.15)\n",
            "Requirement already satisfied: packaging in /usr/local/lib/python3.11/dist-packages (from gradio) (24.2)\n",
            "Requirement already satisfied: pandas<3.0,>=1.0 in /usr/local/lib/python3.11/dist-packages (from gradio) (2.2.2)\n",
            "Requirement already satisfied: pillow<12.0,>=8.0 in /usr/local/lib/python3.11/dist-packages (from gradio) (11.1.0)\n",
            "Requirement already satisfied: pydantic>=2.0 in /usr/local/lib/python3.11/dist-packages (from gradio) (2.10.6)\n",
            "Collecting pydub (from gradio)\n",
            "  Downloading pydub-0.25.1-py2.py3-none-any.whl.metadata (1.4 kB)\n",
            "Collecting python-multipart>=0.0.18 (from gradio)\n",
            "  Downloading python_multipart-0.0.20-py3-none-any.whl.metadata (1.8 kB)\n",
            "Requirement already satisfied: pyyaml<7.0,>=5.0 in /usr/local/lib/python3.11/dist-packages (from gradio) (6.0.2)\n",
            "Collecting ruff>=0.9.3 (from gradio)\n",
            "  Downloading ruff-0.9.10-py3-none-manylinux_2_17_x86_64.manylinux2014_x86_64.whl.metadata (25 kB)\n",
            "Collecting safehttpx<0.2.0,>=0.1.6 (from gradio)\n",
            "  Downloading safehttpx-0.1.6-py3-none-any.whl.metadata (4.2 kB)\n",
            "Collecting semantic-version~=2.0 (from gradio)\n",
            "  Downloading semantic_version-2.10.0-py2.py3-none-any.whl.metadata (9.7 kB)\n",
            "Requirement already satisfied: starlette<1.0,>=0.40.0 in /usr/local/lib/python3.11/dist-packages (from gradio) (0.46.1)\n",
            "Collecting tomlkit<0.14.0,>=0.12.0 (from gradio)\n",
            "  Downloading tomlkit-0.13.2-py3-none-any.whl.metadata (2.7 kB)\n",
            "Requirement already satisfied: typer<1.0,>=0.12 in /usr/local/lib/python3.11/dist-packages (from gradio) (0.15.2)\n",
            "Requirement already satisfied: typing-extensions~=4.0 in /usr/local/lib/python3.11/dist-packages (from gradio) (4.12.2)\n",
            "Requirement already satisfied: uvicorn>=0.14.0 in /usr/local/lib/python3.11/dist-packages (from gradio) (0.34.0)\n",
            "Requirement already satisfied: fsspec in /usr/local/lib/python3.11/dist-packages (from gradio-client==1.7.2->gradio) (2024.10.0)\n",
            "Requirement already satisfied: websockets<16.0,>=10.0 in /usr/local/lib/python3.11/dist-packages (from gradio-client==1.7.2->gradio) (14.2)\n",
            "Requirement already satisfied: idna>=2.8 in /usr/local/lib/python3.11/dist-packages (from anyio<5.0,>=3.0->gradio) (3.10)\n",
            "Requirement already satisfied: sniffio>=1.1 in /usr/local/lib/python3.11/dist-packages (from anyio<5.0,>=3.0->gradio) (1.3.1)\n",
            "Requirement already satisfied: certifi in /usr/local/lib/python3.11/dist-packages (from httpx>=0.24.1->gradio) (2025.1.31)\n",
            "Requirement already satisfied: httpcore==1.* in /usr/local/lib/python3.11/dist-packages (from httpx>=0.24.1->gradio) (1.0.7)\n",
            "Requirement already satisfied: h11<0.15,>=0.13 in /usr/local/lib/python3.11/dist-packages (from httpcore==1.*->httpx>=0.24.1->gradio) (0.14.0)\n",
            "Requirement already satisfied: filelock in /usr/local/lib/python3.11/dist-packages (from huggingface-hub>=0.28.1->gradio) (3.17.0)\n",
            "Requirement already satisfied: requests in /usr/local/lib/python3.11/dist-packages (from huggingface-hub>=0.28.1->gradio) (2.32.3)\n",
            "Requirement already satisfied: tqdm>=4.42.1 in /usr/local/lib/python3.11/dist-packages (from huggingface-hub>=0.28.1->gradio) (4.67.1)\n",
            "Requirement already satisfied: python-dateutil>=2.8.2 in /usr/local/lib/python3.11/dist-packages (from pandas<3.0,>=1.0->gradio) (2.8.2)\n",
            "Requirement already satisfied: pytz>=2020.1 in /usr/local/lib/python3.11/dist-packages (from pandas<3.0,>=1.0->gradio) (2025.1)\n",
            "Requirement already satisfied: tzdata>=2022.7 in /usr/local/lib/python3.11/dist-packages (from pandas<3.0,>=1.0->gradio) (2025.1)\n",
            "Requirement already satisfied: annotated-types>=0.6.0 in /usr/local/lib/python3.11/dist-packages (from pydantic>=2.0->gradio) (0.7.0)\n",
            "Requirement already satisfied: pydantic-core==2.27.2 in /usr/local/lib/python3.11/dist-packages (from pydantic>=2.0->gradio) (2.27.2)\n",
            "Requirement already satisfied: click>=8.0.0 in /usr/local/lib/python3.11/dist-packages (from typer<1.0,>=0.12->gradio) (8.1.8)\n",
            "Requirement already satisfied: shellingham>=1.3.0 in /usr/local/lib/python3.11/dist-packages (from typer<1.0,>=0.12->gradio) (1.5.4)\n",
            "Requirement already satisfied: rich>=10.11.0 in /usr/local/lib/python3.11/dist-packages (from typer<1.0,>=0.12->gradio) (13.9.4)\n",
            "Requirement already satisfied: six>=1.5 in /usr/local/lib/python3.11/dist-packages (from python-dateutil>=2.8.2->pandas<3.0,>=1.0->gradio) (1.17.0)\n",
            "Requirement already satisfied: markdown-it-py>=2.2.0 in /usr/local/lib/python3.11/dist-packages (from rich>=10.11.0->typer<1.0,>=0.12->gradio) (3.0.0)\n",
            "Requirement already satisfied: pygments<3.0.0,>=2.13.0 in /usr/local/lib/python3.11/dist-packages (from rich>=10.11.0->typer<1.0,>=0.12->gradio) (2.18.0)\n",
            "Requirement already satisfied: charset-normalizer<4,>=2 in /usr/local/lib/python3.11/dist-packages (from requests->huggingface-hub>=0.28.1->gradio) (3.4.1)\n",
            "Requirement already satisfied: urllib3<3,>=1.21.1 in /usr/local/lib/python3.11/dist-packages (from requests->huggingface-hub>=0.28.1->gradio) (2.3.0)\n",
            "Requirement already satisfied: mdurl~=0.1 in /usr/local/lib/python3.11/dist-packages (from markdown-it-py>=2.2.0->rich>=10.11.0->typer<1.0,>=0.12->gradio) (0.1.2)\n",
            "Downloading gradio-5.20.1-py3-none-any.whl (62.3 MB)\n",
            "\u001b[2K   \u001b[90m━━━━━━━━━━━━━━━━━━━━━━━━━━━━━━━━━━━━━━━━\u001b[0m \u001b[32m62.3/62.3 MB\u001b[0m \u001b[31m10.5 MB/s\u001b[0m eta \u001b[36m0:00:00\u001b[0m\n",
            "\u001b[?25hDownloading gradio_client-1.7.2-py3-none-any.whl (322 kB)\n",
            "\u001b[2K   \u001b[90m━━━━━━━━━━━━━━━━━━━━━━━━━━━━━━━━━━━━━━━━\u001b[0m \u001b[32m322.1/322.1 kB\u001b[0m \u001b[31m24.6 MB/s\u001b[0m eta \u001b[36m0:00:00\u001b[0m\n",
            "\u001b[?25hDownloading aiofiles-23.2.1-py3-none-any.whl (15 kB)\n",
            "Downloading groovy-0.1.2-py3-none-any.whl (14 kB)\n",
            "Downloading MarkupSafe-2.1.5-cp311-cp311-manylinux_2_17_x86_64.manylinux2014_x86_64.whl (28 kB)\n",
            "Downloading python_multipart-0.0.20-py3-none-any.whl (24 kB)\n",
            "Downloading ruff-0.9.10-py3-none-manylinux_2_17_x86_64.manylinux2014_x86_64.whl (11.3 MB)\n",
            "\u001b[2K   \u001b[90m━━━━━━━━━━━━━━━━━━━━━━━━━━━━━━━━━━━━━━━━\u001b[0m \u001b[32m11.3/11.3 MB\u001b[0m \u001b[31m101.4 MB/s\u001b[0m eta \u001b[36m0:00:00\u001b[0m\n",
            "\u001b[?25hDownloading safehttpx-0.1.6-py3-none-any.whl (8.7 kB)\n",
            "Downloading semantic_version-2.10.0-py2.py3-none-any.whl (15 kB)\n",
            "Downloading tomlkit-0.13.2-py3-none-any.whl (37 kB)\n",
            "Downloading ffmpy-0.5.0-py3-none-any.whl (6.0 kB)\n",
            "Downloading pydub-0.25.1-py2.py3-none-any.whl (32 kB)\n",
            "Installing collected packages: pydub, tomlkit, semantic-version, ruff, python-multipart, markupsafe, groovy, ffmpy, aiofiles, safehttpx, gradio-client, gradio\n",
            "  Attempting uninstall: markupsafe\n",
            "    Found existing installation: MarkupSafe 3.0.2\n",
            "    Uninstalling MarkupSafe-3.0.2:\n",
            "      Successfully uninstalled MarkupSafe-3.0.2\n",
            "\u001b[31mERROR: pip's dependency resolver does not currently take into account all the packages that are installed. This behaviour is the source of the following dependency conflicts.\n",
            "torch 2.5.1+cu124 requires nvidia-cublas-cu12==12.4.5.8; platform_system == \"Linux\" and platform_machine == \"x86_64\", but you have nvidia-cublas-cu12 12.5.3.2 which is incompatible.\n",
            "torch 2.5.1+cu124 requires nvidia-cuda-cupti-cu12==12.4.127; platform_system == \"Linux\" and platform_machine == \"x86_64\", but you have nvidia-cuda-cupti-cu12 12.5.82 which is incompatible.\n",
            "torch 2.5.1+cu124 requires nvidia-cuda-nvrtc-cu12==12.4.127; platform_system == \"Linux\" and platform_machine == \"x86_64\", but you have nvidia-cuda-nvrtc-cu12 12.5.82 which is incompatible.\n",
            "torch 2.5.1+cu124 requires nvidia-cuda-runtime-cu12==12.4.127; platform_system == \"Linux\" and platform_machine == \"x86_64\", but you have nvidia-cuda-runtime-cu12 12.5.82 which is incompatible.\n",
            "torch 2.5.1+cu124 requires nvidia-cudnn-cu12==9.1.0.70; platform_system == \"Linux\" and platform_machine == \"x86_64\", but you have nvidia-cudnn-cu12 9.3.0.75 which is incompatible.\n",
            "torch 2.5.1+cu124 requires nvidia-cufft-cu12==11.2.1.3; platform_system == \"Linux\" and platform_machine == \"x86_64\", but you have nvidia-cufft-cu12 11.2.3.61 which is incompatible.\n",
            "torch 2.5.1+cu124 requires nvidia-curand-cu12==10.3.5.147; platform_system == \"Linux\" and platform_machine == \"x86_64\", but you have nvidia-curand-cu12 10.3.6.82 which is incompatible.\n",
            "torch 2.5.1+cu124 requires nvidia-cusolver-cu12==11.6.1.9; platform_system == \"Linux\" and platform_machine == \"x86_64\", but you have nvidia-cusolver-cu12 11.6.3.83 which is incompatible.\n",
            "torch 2.5.1+cu124 requires nvidia-cusparse-cu12==12.3.1.170; platform_system == \"Linux\" and platform_machine == \"x86_64\", but you have nvidia-cusparse-cu12 12.5.1.3 which is incompatible.\n",
            "torch 2.5.1+cu124 requires nvidia-nvjitlink-cu12==12.4.127; platform_system == \"Linux\" and platform_machine == \"x86_64\", but you have nvidia-nvjitlink-cu12 12.5.82 which is incompatible.\u001b[0m\u001b[31m\n",
            "\u001b[0mSuccessfully installed aiofiles-23.2.1 ffmpy-0.5.0 gradio-5.20.1 gradio-client-1.7.2 groovy-0.1.2 markupsafe-2.1.5 pydub-0.25.1 python-multipart-0.0.20 ruff-0.9.10 safehttpx-0.1.6 semantic-version-2.10.0 tomlkit-0.13.2\n"
          ]
        }
      ],
      "source": [
        "#install packages for Google Colab\n",
        "!pip install openai\n",
        "!pip install chromadb\n",
        "!pip install tiktoken\n",
        "!pip install langchain\n",
        "!pip install langchain-community\n",
        "!pip install gradio"
      ]
    },
    {
      "cell_type": "code",
      "execution_count": 2,
      "metadata": {
        "id": "izAxj3ycC_qk"
      },
      "outputs": [],
      "source": [
        "#import packages\n",
        "from openai import OpenAI\n",
        "import chromadb\n",
        "import numpy as np\n",
        "import pandas as pd\n",
        "import os\n",
        "from langchain.embeddings import OpenAIEmbeddings\n",
        "from langchain.text_splitter import RecursiveCharacterTextSplitter"
      ]
    },
    {
      "cell_type": "code",
      "execution_count": 3,
      "metadata": {
        "colab": {
          "base_uri": "https://localhost:8080/"
        },
        "id": "FSqNHEDXC4n6",
        "outputId": "0d08d383-4dc5-4203-d51c-afdcd6763229"
      },
      "outputs": [
        {
          "output_type": "execute_result",
          "data": {
            "text/plain": [
              "True"
            ]
          },
          "metadata": {},
          "execution_count": 3
        }
      ],
      "source": [
        "#load .env file with OPEN_API_KEY\n",
        "from dotenv import load_dotenv\n",
        "load_dotenv()"
      ]
    },
    {
      "cell_type": "code",
      "execution_count": 4,
      "metadata": {
        "id": "qA2uCCtMJf02"
      },
      "outputs": [],
      "source": [
        "# Initialize OpenAI API\n",
        "client = OpenAI()"
      ]
    },
    {
      "cell_type": "code",
      "execution_count": 5,
      "metadata": {
        "id": "_Qrqz9r0_lIg"
      },
      "outputs": [],
      "source": [
        "# set embedding model name\n",
        "embedding_model_name = \"text-embedding-ada-002\"\n",
        "#embedding_model_name = \"text-embedding-3-large\"  # tried this model but did not find any improvement"
      ]
    },
    {
      "cell_type": "code",
      "execution_count": 6,
      "metadata": {
        "id": "eXRhi5IjIHcC"
      },
      "outputs": [],
      "source": [
        "# function to generate embeddings for a chunk of text using the text-embedding-ada-002 model\n",
        "def generate_embedding(text):\n",
        "    response = client.embeddings.create(\n",
        "        model=embedding_model_name,\n",
        "        input=text\n",
        "    )\n",
        "    return response.data[0].embedding"
      ]
    },
    {
      "cell_type": "code",
      "execution_count": 7,
      "metadata": {
        "id": "2498ZexiECNG"
      },
      "outputs": [],
      "source": [
        "#Function to chunk text\n",
        "#Firstly tried to use a chunk size of 1000 characters with an overlap of 200 characters\n",
        "\n",
        "#def chunk_text(text, chunk_size=1000, chunk_overlap=200):\n",
        "\n",
        "#Change chunk size to 3000 characters and overlap to 500 characters\n",
        "def chunk_text(text, chunk_size=3000, chunk_overlap=500):\n",
        "    splitter = RecursiveCharacterTextSplitter(\n",
        "        chunk_size=chunk_size,\n",
        "        chunk_overlap=chunk_overlap\n",
        "    )\n",
        "    return splitter.split_text(text)"
      ]
    },
    {
      "cell_type": "code",
      "execution_count": 8,
      "metadata": {
        "id": "_Bf0raLxFH0c"
      },
      "outputs": [],
      "source": [
        "# Store embeddings and metadata\n",
        "def store_embeddings(df):\n",
        "\n",
        "    if len(collection.get().get(\"ids\", [])) > 0:\n",
        "        print(\"Vector database already exists. Skipping embedding storage.\")\n",
        "        return\n",
        "\n",
        "    for index, row in df.iterrows():\n",
        "        text_chunks = chunk_text(row['Transcript'])\n",
        "\n",
        "        # Generate unique IDs for chunks\n",
        "        chunk_ids = [f\"{row['Ticker']}_{row['Year']}_{row['Quarter']}_{i}\" for i in range(len(text_chunks))]\n",
        "\n",
        "\n",
        "        for chunk, chunk_id in zip(text_chunks, chunk_ids):\n",
        "            metadata = {\n",
        "                \"ticker\": row['Ticker'],\n",
        "                \"year\": row['Year'],\n",
        "                \"quarter\": row['Quarter'],\n",
        "                \"industry\": row['Industry'],\n",
        "                \"date\": row['Date']\n",
        "            }\n",
        "            embedding = generate_embedding(chunk)\n",
        "            collection.add(\n",
        "                documents=[chunk],\n",
        "                embeddings=[embedding],\n",
        "                metadatas=[metadata],\n",
        "                # Provide the chunk_id as the 'ids' argument\n",
        "                ids=[chunk_id]\n",
        "            )\n",
        "    print(f\"Stored {sum(len(chunk_text(row['Transcript'])) for _, row in df.iterrows())} document chunks with metadata\")\n"
      ]
    },
    {
      "cell_type": "code",
      "execution_count": 9,
      "metadata": {
        "id": "IYpA3p3iFtKB"
      },
      "outputs": [],
      "source": [
        "# Create a vector embedding for the question and query the vector database using the embedding and metadata search criteria\n",
        "def query_rag(query, ticker, year, quarter, top_n=3):\n",
        "    query_embedding = generate_embedding(query)\n",
        "    results = collection.query(\n",
        "        query_embeddings=[query_embedding],\n",
        "        n_results=top_n,\n",
        "        where={\"$and\": [{\"ticker\": ticker}, {\"year\": year}, {\"quarter\": quarter}]}  # Metadata filtering\n",
        "    )\n",
        "    if results.get(\"documents\", [[]])[0]:\n",
        "        top_docs = results[\"documents\"][0][:top_n]\n",
        "        top_metas = results[\"metadatas\"][0][:top_n]\n",
        "\n",
        "        context = \"\\n\\n\".join([f\"Document Chunk {i+1}: \\\"{doc}\\\"\" for i, doc in enumerate(top_docs)])\n",
        "\n",
        "        # Create a prompt with the user question and document chunks and pass to the LLM GPT-4\n",
        "        prompt = f\"\"\"\n",
        "        Given the following extracted document chunks:\n",
        "        {context}\n",
        "\n",
        "        Provide a concise answer to the query: \"{query}\"\n",
        "        \"\"\"\n",
        "\n",
        "        response = client.chat.completions.create(\n",
        "            model=\"gpt-4\",\n",
        "            messages=[\n",
        "                {\"role\": \"system\", \"content\": \"You are a financial research assistant.\"},\n",
        "                {\"role\": \"user\", \"content\": prompt}\n",
        "            ],\n",
        "            max_tokens=300\n",
        "        )\n",
        "\n",
        "        return {\n",
        "            \"answer\": response.choices[0].message.content.strip(),\n",
        "            \"metadata\": top_metas[0],\n",
        "            \"document_chunks\": top_docs\n",
        "        }\n",
        "    else:\n",
        "        return {\"answer\": \"No relevant documents found.\", \"metadata\": {}, \"document_chunks\": []}\n"
      ]
    },
    {
      "cell_type": "code",
      "source": [
        "# Function to evaluate faithfulness and relevance\n",
        "def evaluate_response(answer, query, context):\n",
        "\n",
        "    # Create a prompt to evaluate the faithfulness and the relevance of the answer - LLM as a Judge\n",
        "    evaluation_prompt = f\"\"\"\n",
        "    Given the user query: \"{query}\"\n",
        "    And the following document context:\n",
        "    {context}\n",
        "\n",
        "    Evaluate the answer: \"{answer}\"\n",
        "\n",
        "    1. Faithfulness: Does the answer correctly reflect the facts presented in the document context? (Score: 1-5)\n",
        "    2. Relevance: How well does the answer address the user's query? If the LLM is unable to answer the question as the information is not present in the document chunks, the relevance should be 1 (Score: 1-5)\n",
        "\n",
        "    Provide an overall quality score from 1 to 5 based on these two criteria.\n",
        "    \"\"\"\n",
        "\n",
        "    #Use a more powerful LLM e.g GPT-3-Turbo to judge the answer\n",
        "    eval_response = client.chat.completions.create(\n",
        "        model=\"gpt-4-turbo\",\n",
        "        messages=[\n",
        "            {\"role\": \"system\", \"content\": \"You are an AI assistant that evaluates text responses.\"},\n",
        "            {\"role\": \"user\", \"content\": evaluation_prompt}\n",
        "        ],\n",
        "        max_tokens=300\n",
        "    )\n",
        "\n",
        "    return eval_response.choices[0].message.content.strip()\n"
      ],
      "metadata": {
        "id": "keV2cjYh4nDt"
      },
      "execution_count": 10,
      "outputs": []
    },
    {
      "cell_type": "code",
      "execution_count": 11,
      "metadata": {
        "colab": {
          "base_uri": "https://localhost:8080/"
        },
        "id": "r5kLhxapA_qV",
        "outputId": "08c35715-ca9b-4678-f039-f641aec91a28"
      },
      "outputs": [
        {
          "output_type": "stream",
          "name": "stdout",
          "text": [
            "Mounted at /content/drive\n"
          ]
        }
      ],
      "source": [
        "# Google Colab - Mount google drive\n",
        "from google.colab import drive\n",
        "drive.mount('/content/drive')"
      ]
    },
    {
      "cell_type": "code",
      "execution_count": 12,
      "metadata": {
        "id": "gVAZ3wzUF59p"
      },
      "outputs": [],
      "source": [
        "#Create DB Path for Vector Database - Path is different depending on the embedding model\n",
        "DB_PATH = f\"/content/drive/My Drive/Earning_Calls/embeddings/{embedding_model_name}/chroma_db\""
      ]
    },
    {
      "cell_type": "code",
      "execution_count": 13,
      "metadata": {
        "id": "aCJNOjX2CPyQ"
      },
      "outputs": [],
      "source": [
        "# Create directories if do not exist already\n",
        "os.makedirs(DB_PATH, exist_ok=True)"
      ]
    },
    {
      "cell_type": "code",
      "execution_count": 14,
      "metadata": {
        "id": "ouZVMgSFF9ah"
      },
      "outputs": [],
      "source": [
        "# Create ChromaDB client\n",
        "chroma_client = chromadb.PersistentClient(path=DB_PATH)"
      ]
    },
    {
      "cell_type": "code",
      "execution_count": 15,
      "metadata": {
        "id": "4GgCpWojGCDL"
      },
      "outputs": [],
      "source": [
        "# Create or Get ChromaDB collection\n",
        "collection = chroma_client.get_or_create_collection(\"earnings_calls\")"
      ]
    },
    {
      "cell_type": "code",
      "execution_count": 16,
      "metadata": {
        "id": "sGXp9xryC4n8"
      },
      "outputs": [],
      "source": [
        "# Load in the CSV with the Transcripts\n",
        "transcripts_df = pd.read_csv(\"Earnings_Call_Transcripts_Formatted_2024.csv\")"
      ]
    },
    {
      "cell_type": "code",
      "execution_count": 17,
      "metadata": {
        "colab": {
          "base_uri": "https://localhost:8080/"
        },
        "id": "_WIktQfbC4n8",
        "outputId": "d39e698d-9039-4f21-965d-bcfdf337b282"
      },
      "outputs": [
        {
          "output_type": "stream",
          "name": "stdout",
          "text": [
            "<class 'pandas.core.frame.DataFrame'>\n",
            "RangeIndex: 219 entries, 0 to 218\n",
            "Data columns (total 6 columns):\n",
            " #   Column      Non-Null Count  Dtype \n",
            "---  ------      --------------  ----- \n",
            " 0   Ticker      219 non-null    object\n",
            " 1   Industry    219 non-null    object\n",
            " 2   Year        219 non-null    int64 \n",
            " 3   Quarter     219 non-null    int64 \n",
            " 4   Date        219 non-null    object\n",
            " 5   Transcript  219 non-null    object\n",
            "dtypes: int64(2), object(4)\n",
            "memory usage: 10.4+ KB\n"
          ]
        }
      ],
      "source": [
        "# Look at the information in the dataframe\n",
        "# There are no null values\n",
        "transcripts_df.info()"
      ]
    },
    {
      "cell_type": "code",
      "execution_count": 18,
      "metadata": {
        "colab": {
          "base_uri": "https://localhost:8080/",
          "height": 206
        },
        "id": "-NhrFRCgC4n8",
        "outputId": "f9c60b19-a941-49f4-f71c-9a8581b340bb"
      },
      "outputs": [
        {
          "output_type": "execute_result",
          "data": {
            "text/plain": [
              "  Ticker         Industry  Year  Quarter        Date  \\\n",
              "0   AAPL  AI-focused Tech  2024        1  2024-02-01   \n",
              "1   AAPL  AI-focused Tech  2024        2  2024-05-02   \n",
              "2   AAPL  AI-focused Tech  2024        3  2024-08-01   \n",
              "3   AAPL  AI-focused Tech  2024        4  2024-10-31   \n",
              "4   ABBV      Health Care  2024        1  2024-04-26   \n",
              "\n",
              "                                          Transcript  \n",
              "0  [Operator] Good day, and welcome to the Apple ...  \n",
              "1  [Suhasini Chandramouli] Good Afternoon, and we...  \n",
              "2  [Suhasini Chandramouli] Good afternoon and wel...  \n",
              "3  [Suhasini Chandramouli] Good afternoon, and we...  \n",
              "4  [Operator] Good morning and thank you for stan...  "
            ],
            "text/html": [
              "\n",
              "  <div id=\"df-24f61859-41ec-46a6-bff2-1c981494ab0e\" class=\"colab-df-container\">\n",
              "    <div>\n",
              "<style scoped>\n",
              "    .dataframe tbody tr th:only-of-type {\n",
              "        vertical-align: middle;\n",
              "    }\n",
              "\n",
              "    .dataframe tbody tr th {\n",
              "        vertical-align: top;\n",
              "    }\n",
              "\n",
              "    .dataframe thead th {\n",
              "        text-align: right;\n",
              "    }\n",
              "</style>\n",
              "<table border=\"1\" class=\"dataframe\">\n",
              "  <thead>\n",
              "    <tr style=\"text-align: right;\">\n",
              "      <th></th>\n",
              "      <th>Ticker</th>\n",
              "      <th>Industry</th>\n",
              "      <th>Year</th>\n",
              "      <th>Quarter</th>\n",
              "      <th>Date</th>\n",
              "      <th>Transcript</th>\n",
              "    </tr>\n",
              "  </thead>\n",
              "  <tbody>\n",
              "    <tr>\n",
              "      <th>0</th>\n",
              "      <td>AAPL</td>\n",
              "      <td>AI-focused Tech</td>\n",
              "      <td>2024</td>\n",
              "      <td>1</td>\n",
              "      <td>2024-02-01</td>\n",
              "      <td>[Operator] Good day, and welcome to the Apple ...</td>\n",
              "    </tr>\n",
              "    <tr>\n",
              "      <th>1</th>\n",
              "      <td>AAPL</td>\n",
              "      <td>AI-focused Tech</td>\n",
              "      <td>2024</td>\n",
              "      <td>2</td>\n",
              "      <td>2024-05-02</td>\n",
              "      <td>[Suhasini Chandramouli] Good Afternoon, and we...</td>\n",
              "    </tr>\n",
              "    <tr>\n",
              "      <th>2</th>\n",
              "      <td>AAPL</td>\n",
              "      <td>AI-focused Tech</td>\n",
              "      <td>2024</td>\n",
              "      <td>3</td>\n",
              "      <td>2024-08-01</td>\n",
              "      <td>[Suhasini Chandramouli] Good afternoon and wel...</td>\n",
              "    </tr>\n",
              "    <tr>\n",
              "      <th>3</th>\n",
              "      <td>AAPL</td>\n",
              "      <td>AI-focused Tech</td>\n",
              "      <td>2024</td>\n",
              "      <td>4</td>\n",
              "      <td>2024-10-31</td>\n",
              "      <td>[Suhasini Chandramouli] Good afternoon, and we...</td>\n",
              "    </tr>\n",
              "    <tr>\n",
              "      <th>4</th>\n",
              "      <td>ABBV</td>\n",
              "      <td>Health Care</td>\n",
              "      <td>2024</td>\n",
              "      <td>1</td>\n",
              "      <td>2024-04-26</td>\n",
              "      <td>[Operator] Good morning and thank you for stan...</td>\n",
              "    </tr>\n",
              "  </tbody>\n",
              "</table>\n",
              "</div>\n",
              "    <div class=\"colab-df-buttons\">\n",
              "\n",
              "  <div class=\"colab-df-container\">\n",
              "    <button class=\"colab-df-convert\" onclick=\"convertToInteractive('df-24f61859-41ec-46a6-bff2-1c981494ab0e')\"\n",
              "            title=\"Convert this dataframe to an interactive table.\"\n",
              "            style=\"display:none;\">\n",
              "\n",
              "  <svg xmlns=\"http://www.w3.org/2000/svg\" height=\"24px\" viewBox=\"0 -960 960 960\">\n",
              "    <path d=\"M120-120v-720h720v720H120Zm60-500h600v-160H180v160Zm220 220h160v-160H400v160Zm0 220h160v-160H400v160ZM180-400h160v-160H180v160Zm440 0h160v-160H620v160ZM180-180h160v-160H180v160Zm440 0h160v-160H620v160Z\"/>\n",
              "  </svg>\n",
              "    </button>\n",
              "\n",
              "  <style>\n",
              "    .colab-df-container {\n",
              "      display:flex;\n",
              "      gap: 12px;\n",
              "    }\n",
              "\n",
              "    .colab-df-convert {\n",
              "      background-color: #E8F0FE;\n",
              "      border: none;\n",
              "      border-radius: 50%;\n",
              "      cursor: pointer;\n",
              "      display: none;\n",
              "      fill: #1967D2;\n",
              "      height: 32px;\n",
              "      padding: 0 0 0 0;\n",
              "      width: 32px;\n",
              "    }\n",
              "\n",
              "    .colab-df-convert:hover {\n",
              "      background-color: #E2EBFA;\n",
              "      box-shadow: 0px 1px 2px rgba(60, 64, 67, 0.3), 0px 1px 3px 1px rgba(60, 64, 67, 0.15);\n",
              "      fill: #174EA6;\n",
              "    }\n",
              "\n",
              "    .colab-df-buttons div {\n",
              "      margin-bottom: 4px;\n",
              "    }\n",
              "\n",
              "    [theme=dark] .colab-df-convert {\n",
              "      background-color: #3B4455;\n",
              "      fill: #D2E3FC;\n",
              "    }\n",
              "\n",
              "    [theme=dark] .colab-df-convert:hover {\n",
              "      background-color: #434B5C;\n",
              "      box-shadow: 0px 1px 3px 1px rgba(0, 0, 0, 0.15);\n",
              "      filter: drop-shadow(0px 1px 2px rgba(0, 0, 0, 0.3));\n",
              "      fill: #FFFFFF;\n",
              "    }\n",
              "  </style>\n",
              "\n",
              "    <script>\n",
              "      const buttonEl =\n",
              "        document.querySelector('#df-24f61859-41ec-46a6-bff2-1c981494ab0e button.colab-df-convert');\n",
              "      buttonEl.style.display =\n",
              "        google.colab.kernel.accessAllowed ? 'block' : 'none';\n",
              "\n",
              "      async function convertToInteractive(key) {\n",
              "        const element = document.querySelector('#df-24f61859-41ec-46a6-bff2-1c981494ab0e');\n",
              "        const dataTable =\n",
              "          await google.colab.kernel.invokeFunction('convertToInteractive',\n",
              "                                                    [key], {});\n",
              "        if (!dataTable) return;\n",
              "\n",
              "        const docLinkHtml = 'Like what you see? Visit the ' +\n",
              "          '<a target=\"_blank\" href=https://colab.research.google.com/notebooks/data_table.ipynb>data table notebook</a>'\n",
              "          + ' to learn more about interactive tables.';\n",
              "        element.innerHTML = '';\n",
              "        dataTable['output_type'] = 'display_data';\n",
              "        await google.colab.output.renderOutput(dataTable, element);\n",
              "        const docLink = document.createElement('div');\n",
              "        docLink.innerHTML = docLinkHtml;\n",
              "        element.appendChild(docLink);\n",
              "      }\n",
              "    </script>\n",
              "  </div>\n",
              "\n",
              "\n",
              "<div id=\"df-78ce124b-800d-43fb-be8f-04e0c71e1968\">\n",
              "  <button class=\"colab-df-quickchart\" onclick=\"quickchart('df-78ce124b-800d-43fb-be8f-04e0c71e1968')\"\n",
              "            title=\"Suggest charts\"\n",
              "            style=\"display:none;\">\n",
              "\n",
              "<svg xmlns=\"http://www.w3.org/2000/svg\" height=\"24px\"viewBox=\"0 0 24 24\"\n",
              "     width=\"24px\">\n",
              "    <g>\n",
              "        <path d=\"M19 3H5c-1.1 0-2 .9-2 2v14c0 1.1.9 2 2 2h14c1.1 0 2-.9 2-2V5c0-1.1-.9-2-2-2zM9 17H7v-7h2v7zm4 0h-2V7h2v10zm4 0h-2v-4h2v4z\"/>\n",
              "    </g>\n",
              "</svg>\n",
              "  </button>\n",
              "\n",
              "<style>\n",
              "  .colab-df-quickchart {\n",
              "      --bg-color: #E8F0FE;\n",
              "      --fill-color: #1967D2;\n",
              "      --hover-bg-color: #E2EBFA;\n",
              "      --hover-fill-color: #174EA6;\n",
              "      --disabled-fill-color: #AAA;\n",
              "      --disabled-bg-color: #DDD;\n",
              "  }\n",
              "\n",
              "  [theme=dark] .colab-df-quickchart {\n",
              "      --bg-color: #3B4455;\n",
              "      --fill-color: #D2E3FC;\n",
              "      --hover-bg-color: #434B5C;\n",
              "      --hover-fill-color: #FFFFFF;\n",
              "      --disabled-bg-color: #3B4455;\n",
              "      --disabled-fill-color: #666;\n",
              "  }\n",
              "\n",
              "  .colab-df-quickchart {\n",
              "    background-color: var(--bg-color);\n",
              "    border: none;\n",
              "    border-radius: 50%;\n",
              "    cursor: pointer;\n",
              "    display: none;\n",
              "    fill: var(--fill-color);\n",
              "    height: 32px;\n",
              "    padding: 0;\n",
              "    width: 32px;\n",
              "  }\n",
              "\n",
              "  .colab-df-quickchart:hover {\n",
              "    background-color: var(--hover-bg-color);\n",
              "    box-shadow: 0 1px 2px rgba(60, 64, 67, 0.3), 0 1px 3px 1px rgba(60, 64, 67, 0.15);\n",
              "    fill: var(--button-hover-fill-color);\n",
              "  }\n",
              "\n",
              "  .colab-df-quickchart-complete:disabled,\n",
              "  .colab-df-quickchart-complete:disabled:hover {\n",
              "    background-color: var(--disabled-bg-color);\n",
              "    fill: var(--disabled-fill-color);\n",
              "    box-shadow: none;\n",
              "  }\n",
              "\n",
              "  .colab-df-spinner {\n",
              "    border: 2px solid var(--fill-color);\n",
              "    border-color: transparent;\n",
              "    border-bottom-color: var(--fill-color);\n",
              "    animation:\n",
              "      spin 1s steps(1) infinite;\n",
              "  }\n",
              "\n",
              "  @keyframes spin {\n",
              "    0% {\n",
              "      border-color: transparent;\n",
              "      border-bottom-color: var(--fill-color);\n",
              "      border-left-color: var(--fill-color);\n",
              "    }\n",
              "    20% {\n",
              "      border-color: transparent;\n",
              "      border-left-color: var(--fill-color);\n",
              "      border-top-color: var(--fill-color);\n",
              "    }\n",
              "    30% {\n",
              "      border-color: transparent;\n",
              "      border-left-color: var(--fill-color);\n",
              "      border-top-color: var(--fill-color);\n",
              "      border-right-color: var(--fill-color);\n",
              "    }\n",
              "    40% {\n",
              "      border-color: transparent;\n",
              "      border-right-color: var(--fill-color);\n",
              "      border-top-color: var(--fill-color);\n",
              "    }\n",
              "    60% {\n",
              "      border-color: transparent;\n",
              "      border-right-color: var(--fill-color);\n",
              "    }\n",
              "    80% {\n",
              "      border-color: transparent;\n",
              "      border-right-color: var(--fill-color);\n",
              "      border-bottom-color: var(--fill-color);\n",
              "    }\n",
              "    90% {\n",
              "      border-color: transparent;\n",
              "      border-bottom-color: var(--fill-color);\n",
              "    }\n",
              "  }\n",
              "</style>\n",
              "\n",
              "  <script>\n",
              "    async function quickchart(key) {\n",
              "      const quickchartButtonEl =\n",
              "        document.querySelector('#' + key + ' button');\n",
              "      quickchartButtonEl.disabled = true;  // To prevent multiple clicks.\n",
              "      quickchartButtonEl.classList.add('colab-df-spinner');\n",
              "      try {\n",
              "        const charts = await google.colab.kernel.invokeFunction(\n",
              "            'suggestCharts', [key], {});\n",
              "      } catch (error) {\n",
              "        console.error('Error during call to suggestCharts:', error);\n",
              "      }\n",
              "      quickchartButtonEl.classList.remove('colab-df-spinner');\n",
              "      quickchartButtonEl.classList.add('colab-df-quickchart-complete');\n",
              "    }\n",
              "    (() => {\n",
              "      let quickchartButtonEl =\n",
              "        document.querySelector('#df-78ce124b-800d-43fb-be8f-04e0c71e1968 button');\n",
              "      quickchartButtonEl.style.display =\n",
              "        google.colab.kernel.accessAllowed ? 'block' : 'none';\n",
              "    })();\n",
              "  </script>\n",
              "</div>\n",
              "\n",
              "    </div>\n",
              "  </div>\n"
            ],
            "application/vnd.google.colaboratory.intrinsic+json": {
              "type": "dataframe",
              "variable_name": "transcripts_df",
              "summary": "{\n  \"name\": \"transcripts_df\",\n  \"rows\": 219,\n  \"fields\": [\n    {\n      \"column\": \"Ticker\",\n      \"properties\": {\n        \"dtype\": \"category\",\n        \"num_unique_values\": 55,\n        \"samples\": [\n          \"META\",\n          \"BA\",\n          \"MMM\"\n        ],\n        \"semantic_type\": \"\",\n        \"description\": \"\"\n      }\n    },\n    {\n      \"column\": \"Industry\",\n      \"properties\": {\n        \"dtype\": \"category\",\n        \"num_unique_values\": 10,\n        \"samples\": [\n          \"Materials\",\n          \"Health Care\",\n          \"Financials\"\n        ],\n        \"semantic_type\": \"\",\n        \"description\": \"\"\n      }\n    },\n    {\n      \"column\": \"Year\",\n      \"properties\": {\n        \"dtype\": \"number\",\n        \"std\": 0,\n        \"min\": 2024,\n        \"max\": 2024,\n        \"num_unique_values\": 1,\n        \"samples\": [\n          2024\n        ],\n        \"semantic_type\": \"\",\n        \"description\": \"\"\n      }\n    },\n    {\n      \"column\": \"Quarter\",\n      \"properties\": {\n        \"dtype\": \"number\",\n        \"std\": 1,\n        \"min\": 1,\n        \"max\": 4,\n        \"num_unique_values\": 4,\n        \"samples\": [\n          2\n        ],\n        \"semantic_type\": \"\",\n        \"description\": \"\"\n      }\n    },\n    {\n      \"column\": \"Date\",\n      \"properties\": {\n        \"dtype\": \"object\",\n        \"num_unique_values\": 93,\n        \"samples\": [\n          \"2024-05-07\"\n        ],\n        \"semantic_type\": \"\",\n        \"description\": \"\"\n      }\n    },\n    {\n      \"column\": \"Transcript\",\n      \"properties\": {\n        \"dtype\": \"string\",\n        \"num_unique_values\": 219,\n        \"samples\": [\n          \"[Operator] Good afternoon, everyone. Welcome to NIKE, Inc.'s Fiscal 2024 Fourth Quarter Conference Call. For those who want to reference today's press release, you'll find it at investors.nike.com. Leading today's call is Paul Trussell, VP of Corporate Finance and Treasurer. I would now like to turn the call over to Paul Trussell. [Paul Trussell] Thank you, operator. Hello, everyone, and thank you for joining us today to discuss NIKE Inc.\\u2019s fiscal 2024 fourth quarter results. Joining us on today's call will be NIKE Inc. President and CEO, John Donahoe; and our CFO, Matt Friend. Before we begin, let me remind you that participants on this call will make forward-looking statements based on current expectations, and those statements are subject to certain risk and uncertainties that could cause actual results to differ materially. These risks and uncertainties are detailed in NIKE's reports filed with the SEC. In addition, participants may discuss non-GAAP financial measures and non-public financial and statistical information. Please refer to NIKE's earnings press release or NIKE's website, investors.nike.com, for comparable GAAP measures and quantitative reconciliations. All growth comparisons on the call today are presented on a year-over-year basis and are currency neutral, unless otherwise noted. We will start with prepared remarks and then open up for questions. We would like to allow as many of you to ask questions as possible in our allotted time, so we would appreciate you limiting your initial question to one. Thanks for your cooperation on this. I'll now turn the call over to NIKE Inc. President and CEO, John Donahoe. [John Donahoe] Thank you, Paul. And hello to everyone on today's call. I want to start by briefly commenting on our financial results. For full year fiscal 2024, revenue grew approximately 1% on a currency neutral basis and earnings per share grew 15%. Q4 revenue was flat. For the quarter, we saw strong gains within Performance product. However, this was more than offset by declines in lifestyle. These declines had a pronounced impact on our digital results. These factors, when combined with increased macro uncertainty and worsening foreign exchange, have caused us to reduce our guidance for fiscal 2025. Matt will provide more detail on our results and outlook later in the call. While fiscal 2025 will be a transition year for our business, we continue to make real progress on our comeback. Over the past year, we've highlighted the strategic shifts we're taking as a company, including leadership and organization changes, kick-starting a multi-year innovation cycle, and creating capacity to invest in consumer-facing activities. As I mentioned in last quarter's call, we're making a series of adjustments to position us to compete and win. We're sharpening our focus on sport, accelerating our pace and scaling of newness and innovation, driving bigger, bolder storytelling, and elevating the entire marketplace to fuel brand distinction and be in the path of the consumer. This is our playbook, and we're seeing momentum build in all four areas, particularly on the Performance side of our product portfolio. We have work to do, but we're on it. Our teams are moving with energy and urgency against the opportunity we see in front of us. Now, as we've discussed over the past few quarters, we've been accelerating our innovation pipeline, including pulling forward several innovations, some more than a year. We're moving aggressively to reestablish our innovation edge. We began with a focus on Performance, as NIKE always does. And the early results from newness and innovation are encouraging. Performance grew double digits in the quarter with growth in many of our key sports. And as we kicked off our multi-year innovation cycle, one of our key priorities has been increasing our speed to the consumer. We believe accelerating the pace and consistency of our innovation will allow us to deliver impact at scale, season after season. Now, as you know, for years, NIKE has had an Express Lane, which enables short lead time replenishment and hyper local design. And we'll continue to leverage Express Lane. But over the past year, we have also built a new way of working across the entire product creation process. We call this [Speed Lane] (ph), and it's part of a broader company-wide effort to move faster and be more responsive to the consumer. For example, through Speed Lane, we're leveraging our Bowerman Footwear Lab to accelerate design. We're leveraging advanced digital tools to quicken development. And we're leveraging key manufacturing partners to speed up product testing and production. We've already accelerated a half a dozen models through this new capability. And in the second half of the fiscal year, you'll see other new innovations come out of Speed Lane, including several exciting new franchises across fitness and lifestyle. As I've mentioned, our sharp focus around newness and innovation starts with Performance and we're seeing the impact across key sports. Let me give you a few brief examples across three, basketball, fitness and running. First, basketball, which was up double-digit growth in Q4 across men's, women's, kids and Jordan. This was driven by new innovation from the GT Cut to Kobe's new footwear and apparel to the Sabrina 1, which in and itself has taken 2 points of share across the entire US basketball market, including both men's and women's. We recently announced Sabrina's next shoe, as well as A'ja Wilson signature franchise. And we announced the signing of Caitlin Clark to a roster of athletes that was already the game's best. All this energy will continue to fuel the rapid growth of our women's basketball business as excitement around the WNBA soars to historic highs amidst an expanding fan base. And, of course, this month's Jason versus Luca NBA Finals matchup marked the first time Jordan's signature athletes met on basketball's pinnacle stage. We celebrated Jason's title with one of the Jordan brand's biggest marketing efforts ever. Next, let's look at our fitness business. Fitness represents one of the largest market share opportunities we see as a company, particularly for our female consumer. We've made intentional decisions to make meaningful investments in fitness, and these actions are paying off. Over the past quarter, we saw broad-based growth for fitness led by double-digit growth in apparel. For example, statement leggings, which is a key focus for us, were up high double digits in Q4, led by innovations we've introduced over the past few quarters with Universa, Zenvy and Go. Women's fitness footwear also had a strong quarter, driven by Motiva and the latest version of Free Metcon, which came out last summer. Free Metcon is now NIKE's number one women's fitness shoe, having expanded from the gym to the street. Next, let's look at road running, which remains a competitive battlefield, but we are playing to win. In past calls, we've discussed that we're now aligned, resourced, and taking this challenge head on with confidence. We've been hustling to accelerate our running innovations and amplify our ground game. While our overall running business was impacted in Q4 by our proactive actions to manage the Pegasus portfolio transition, we're pleased that recent new releases in Vomero, Invincible, Infinity and Structure all grew high double digits over the quarter. We're making it easier for consumers to discover these styles by simplifying our running construct at retail as we highlight our best-in-class cushioning technologies. Now, as you know, a few weeks ago, we launched the Pegasus 41, a new chapter for NIKE's biggest performance franchise. Peg 41 pairs Zoom Air with full length React X foam for a ride that's more comfortable, durable, and responsive than ever. It's received strong reviews from industry experts. We supported the 41 with our full playbook, backed by NIKE's most comprehensive running campaign in years, which will last for several seasons. It was also fueled by a refreshed ground game. This included neighborhood activations to drive consumer trialing at scale and building energy across the full marketplace, including NIKE Direct, our strategic partners, and our performance authenticators such as running specialty doors. This energy drove Peg 41 to a strong start, led by better than expected sell-through in both wholesale and NIKE Direct. And our full running journey for Fiscal 2025 goes beyond the Peg 41 launch. We'll be adding several dimensions for Peg in holiday before introducing additional exciting innovations in the second half of the year, including Pegasus Premium and Vomero 18. We're already seeing strong wholesale order book for running across the next few seasons as we continue to take meaningful strides to assert our leadership in this key sport. Now, let's talk about lifestyle where we're focused on building a more diversified lifestyle footwear portfolio that complement the industry's three largest franchises. We're excited about our pipeline of new lifestyle product. A key example was last quarter's introduction of Dynamic Air, our newest breakthrough innovation platform. We launched the Air Max DN globally, and within just a few months, DN has become a top 10 lifestyle franchise in our men's business and is resonating particularly well with sneaker-engaged consumers in major cities. And importantly, Dynamic Air is an innovation platform. We're already working on the next two iterations of Dynamic Air. And we will continue to innovate on this platform, including customizing air cushioning to create unique consumer benefits. Another component of fueling a more diversified lifestyle portfolio is taking advantage of NIKE's unmatched vault. One example is retro running. We saw an opportunity in the marketplace for retro and moved quickly and nimbly to fill it with our Y2K portfolio and consumers are responding. We experienced significant quarter-over-quarter retail sales growth for Y2K and now expect to nearly triple our retro-running business by the end of fiscal 2025 compared with the start of fiscal 2024. Now while we are growing new lifestyle offerings, we're also accelerating planned reductions for our three largest franchises. And this will have a meaningful impact near term on our overall lifestyle growth rate. Now while we have work to do, we are very focused on scaling the newness to offset this planned reduction. And we're excited about the pipeline with exciting footwear concepts coming in the second half of fiscal 2025. Finally, the Paris Olympics offers us a pinnacle moment to communicate our vision of sport to the world. This is led by breakthrough innovation and announced by a brand campaign that you won't be able to miss. We recently unveiled our Air for Athletes innovation at our NIKE On Air event in Paris. And we can't wait to bring all this Olympics product to life across the games and in more than 8,000 doors worldwide. And throughout, our brand storytelling will be bold and clear, with sport and athletes at the very center of it all, from brand voice to retail activations. This summer, we will cut through the clutter to create powerful energy for the NIKE brand. We're back doing what we do best, creating impactful storytelling and ultimately brand distinction in sport. In the end, we're taking our challenges head on and we're regaining our edge. Thanks to the heart and hustle of our global team, we're aggressively asserting the future of NIKE. With passion, clarity, and grit, we're driving this business forward. We're excited about the opportunity in front of us, and we're eager to prove what NIKE can do. And with that, I'll turn the call over to Matt. [Matthew Friend] Thanks, John. And hello to everyone on the call. For NIKE, fiscal 204 was a pivotal year to get back on the offense in sport with consumers, led by an urgency to accelerate our pace of innovation and scale newness across our product line. Today, our playbook is in motion. Our teams are focused and hustling to deliver, and we're seeing positive signals from consumers and retail partners across the world. That said, this quarter we have been navigating several headwinds, which we now expect to have a more pronounced impact on fiscal 2025. Although the next few quarters will be challenging, we are confident that we are repositioning NIKE to be more competitive, with a more balanced portfolio, to drive sustainable, profitable long-term growth. Let me provide some deeper insights into the fourth quarter and the implications we see as we look forward before reviewing our financial results and our outlook. First, after double-digit growth over the past several years, our lifestyle business declined in Q4 across men's, women's, and Jordan, more than offsetting strong growth in our Sport Performance business. Second, NIKE Digital declined 10% in the quarter. Although our digital business has grown at an approximately 26% CAGR since fiscal 2019, we missed our Q4 plan on softer traffic, higher promotions, and lower sales of certain classic footwear franchises. More specifically, these franchises underperformed our overall digital business results in the quarter, especially in April and May, and continuing on into early June. This is even as these franchises continue to drive retail sales growth at high full price realization in multi-brand retail. Third, we experience meaningful shifts in consumer traffic in key markets, particularly in Greater China, where brick-and-mortar traffic declined as much as double digits versus the prior year. We also continue to see uneven trends in EMEA and other markets around the world. And last, foreign exchange headwinds worsened, creating an additional one point headwind on revenue in the quarter. In the midst of these dynamics, our goals to return to strong growth remain the same. Read and react to the consumer, maximize full-price sales across all channels, protect long-term franchise health, prioritize a healthy pull market and create marketplace capacity for new products and new stories coming in fiscal 2025. Therefore, despite continued marketplace demand, we are advancing our timelines to tighten total supply of certain classic footwear franchises at different paces, across different channels around the world. In particular, we are aggressively adjusting our forward-looking plans for these franchises on NIKE Digital, where they have their highest share of business. All told, we expect these actions to create several points of short-term headwinds on revenue in fiscal 2025. However, our past experience gives us confidence that proactively rebalancing our portfolio will strengthen our competitive position and fuel brand momentum as we take the consumer somewhere new. Let me share a few recent examples. Back in fiscal 2018, we recalibrated the supply of select Jordan brand franchises, resetting our launch business and bringing more dimension to our portfolio. Over the subsequent quarters, we turned the page from double-digit declines in the brand to the start of multiple consecutive years of strong double digit growth. And earlier this year, we moved quickly to reshape our lifestyle footwear portfolio in Japan and Korea, two of our most trend forward markets where our teams read and reacted to consumer signals. We reduced supply of some classic franchises, while scaling and creating new energy around other models in our vault. In the fourth quarter, we regained our number one position in Korea in women's lifestyle footwear and extended our lead in Japan with new momentum heading into fiscal 2025. Now, as we accelerate our pace of newness and innovation, the early response from consumers and partners are reinforcing our optimism in NIKE's path forward. First, the sharper focus on sport is creating impact. This quarter, performance grew across men's, women's, kids, and Jordan, across all channels and geographies. And we expect to build on that momentum, leading with Performance in fiscal 2025. We are seeing favorable indicators in key focus areas, including strong double-digit growth in order books with North American running specialty partners in both holiday 2024 and spring 2025. In lifestyle, fresh releases are resonating positively with consumers. For instance, new executions around retro running and field franchises such as Cortez, Killshot, and the Field General are driving strong retail sales growth as we prepare to scale these franchises in fiscal 2025. Our teams are also attacking opportunities across price points, including a refreshed lineup of new footwear products below $100. Building on this quarter's double-digit growth, we plan to scale new performance and lifestyle models in spring 2025. Added up, we expect the business contribution from new products to more than double from the start of fiscal 2024 to where we end the year in fiscal 2025. Last, we are managing expenses tightly through this product cycle transition, while reallocating resources to maximize consumer impact. This is enabled by our Safe to Invest initiative, which is creating investment capacity to fuel our next phase of growth. At the end of fiscal 2024, we have unlocked savings from initiatives up and down our P&L and across our value chain, from reducing small parcel fulfillment costs, to consolidating suppliers, optimizing technology spend, and restructuring our organization to streamline layers and support functions. In turn, we are reinvesting nearly $1 billion in consumer-facing activities in fiscal 2025, which we expect to accelerate our return to strong growth. This includes ramping up our ground game offense and running in key cities, increasing resources in design, product creation, and merchandising for our key sport dimensions, deepening our sports marketing portfolio, elevating the distinction of our brand in physical retail, and driving bigger, bolder brand campaigns, starting with EC \\u201824 and the Paris Olympics. Now let me turn to our NIKE Inc. Fourth quarter results. In Q4, NIKE Inc. revenue was down 2% on a reported basis and flat on a currency neutral basis. NIKE Direct was down 7%. NIKE stores were down 2%. and NIKE Digital was down 10%. Wholesale grew 8%. Gross margins expanded 110 basis points to 44.7% on a reported basis, primarily due to strategic pricing actions, lower ocean freight rates, and improved supply chain efficiency, partially offset by lower margins in NIKE Direct, unfavorable channel mix, and net foreign exchange impact. SG&A was down 7% on a reported basis as increased investment and demand creation was more than offset by reductions in operational overhead. This includes impact from approximately $40 million in restructuring charges. Our effective tax rate was 13.1%, compared to 17.3% for the same period last year, due to changes in earnings mix, partially offset by decreased benefits from one-time items, such as stock-based compensation. Diluted earnings per share was $0.99, up 50% versus the prior year. This includes non-material impact from restructuring charges. For the full year, revenue was flat on a reported basis and up 1% on a currency neutral basis. Diluted earnings per share grew 15%. Cash flow from operations was $7.4 billion, up 27% versus the prior year on significant improvements in working capital. Inventory declined 11% versus the prior year with continued improvement in days in inventory. Now let me turn to the operating segments. In North America, Q4 revenue declined 1%. NIKE Direct was down 9%, with NIKE Digital down 11%, and NIKE stores down 5%. Wholesale grew 6%, due to accelerated shipping timing from Q1 of fiscal 2025, and EBIT grew 5% on a reported basis. This quarter, we saw softer traffic in our factory stores, highlighting increasing pressure being felt by the value consumer. That said, we saw a number of bright spots as well, including strong growth in basketball, fitness, and kids, offset by declines in lifestyle and Jordan. Kids led our results in the geography with performance dimensions of strong double digits. In women's fitness, we gained market share in footwear. In men's and women's running, fall footwear bookings are up double digits, led by the Pegasus 41. In EMEA, Q4 revenue grew 1%. NIKE Direct was down 8% as NIKE stores grew 1% and NIKE Digital declined 14%. Wholesale grew 7%. EBIT grew 2% on a reported basis. In a cautious macro environment, we are seeing performance innovation drive strong sell-through. This is partially offset by overall declines in lifestyle, with new product releases working well. Global football grew double digits across men's and kids. In women's fitness, we drove strong momentum in footwear and new apparel releases such as our Refresh NIKE Pro line. In lifestyle, our retro running franchises continue to scale and our Air Max DM launch drove energy with a full marketplace takeover. In greater China, Q4 revenue grew 7%, including several points of contribution from Tmall's earlier start to the 6/18 shopping holiday. Excluding this timing benefit, we fell short of our plan, with traffic softness persisting across all marketplace channels. NIKE Direct declined 2% with NIKE stores down 6% and NIKE Digital up 8%. Wholesale grew 15%. EBIT grew 4% on a reported basis with continued impacts from foreign exchange. Our kids business set the pace in the geography this quarter, led by running and basketball. Within men's and women's lifestyle, retro running styles and our latest Express Lane releases drove positive consumer response. And in men's and women's running, retail sales for our new releases, Structure, Vomero, and Invincible grew double digits. The China marketplace remains highly promotional, and we continue to manage both NIKE and partner inventory carefully. While our outlook for the near term has softened, we remain confident in NIKE's competitive position in China in the long term. In APLA, Q4 revenue grew 4%. NIKE Direct declined 3%, with NIKE stores up 11% and NIKE Digital down 12%. Wholesale grew 9% and EBIT grew 4% on a reported basis. Mexico and Southeast Asia and India led our growth in this geography. And across APLA, we drove strong momentum in performance with men's basketball, men's global football, and women's fitness up double digits. Jordan Brand drove energy with streetball activations in Tokyo and Manila, and market share gains in basketball footwear. Now let me turn to our fiscal 2025 financial outlook. We are managing a product cycle transition with complexity amplified by shifting channel mix dynamics. A comeback at this scale takes time. With this in mind, we've considered a number of factors and scenarios in revising our outlook for fiscal 2025. Most importantly, this includes timelines and pacing to manage marketplace supply of our classic footwear franchises, lower NIKE Digital growth, especially in the first half of the year due to lower traffic on fewer launches, plan declines of classic footwear franchises given Q4 trends, as well as reduced promotional activity, increased macro uncertainty, particularly in greater China, with uneven consumer trends continuing in EMEA and other markets around the world, and sell into wholesale partners as we scale product innovation and newness across the marketplace and finalize second half order books. Taking all of this into consideration, we now expect fiscal 2025 reported revenue to be down mid-single digits, with the first half down high single digits. Foreign exchange headwinds have also worsened and will now have a one-point translational impact on revenue in fiscal 2025. Turning to gross margin, we expect full year expansion of approximately 10 basis points to 30 basis points on a reported basis. This reflects benefits from strategic pricing actions and lower product input costs, partially offset by supply chain deleverage, channel mix shifts, and net foreign exchange impact. We expect full year SG&A growth to be up slightly versus the prior year as we increase investments in demand creation to ignite brand momentum and maximize reach and impact, while holding operating overhead largely flat. Other income and expense, including net interest income, is expected to be approximately $250 million to $300 million for the year. We expect our full year effective tax rate to be in the high teens range. Now turning to our first quarter, we expect first quarter revenue to be down approximately 10%. This reflects more aggressive actions in managing our classic footwear franchises, continuing challenges on NIKE Digital, muted wholesale order books with newness not yet at scale, a softer outlook in greater China, and a number of quarter-specific timing factors. We expect first quarter gross margins to be in line with the full year guidance. And we expect first quarter SG&A to be at mid-single digits, as we hold operating overhead flat, while investing in key brand moments, including EC \\u201824 and the Paris Olympics games. For NIKE, inspiration starts with the athletes we serve. Their dreams motivate us to create the most innovative product in sport and tell stories that reach millions of people around the world. Above all, they remind us of the hard work and the hustle that is required to win. Before I close, I'd like to thank our NIKE teammates whose passion and drive are the fuel for our comeback. The heart, the focus, and the collaboration that I'm seeing from our teams today are my greatest reasons for confidence as we move forward. With that, let's open up the call for questions. [Operator] [Operator Instructions] Our first question will come from the line of Matthew Boss with JP Morgan. Please go ahead. [Matthew Boss] Great, thanks. Maybe John, just to summarize and think about relative to three months back. I guess, how would you rank changes on the macro front and similarly on NIKE execution that impacted the change in your 2025 outlook today relative to three months ago? And then Matt, just on the gross margin, could you just help break apart maybe the puts and takes to consider over the course of 2025 and how best to model the cadence from a gross margin perspective? [John Donahoe] Well, thanks, Matthew. We set out our -- what we're calling our comeback plan a year ago. And in the last 90 days, I would say our execution continues to stay on pace. Matt, you can talk about macro and the franchise management impacting the numbers, but on the fundamental things we set out to do four things that we are moving aggressively on. One, put sport back at the center of everything we do, serving the athlete, And over the last 90 days, we've completed completely aligning our organization along the lines of sport, are co-locating those teams, and now end-to-end have clear, what we call, field to play -- sport-based field to play teams end-to-end, which is accelerating our pace and also improving our execution. As we talked about the last couple quarters, we've reignited our innovation pipeline, including pulling several innovations forward. So in addition to launching DN and Peg 41 during the quarter, early this quarter, we'll also pull forward key innovations like the Peg Premium and Vomero 18, which are just two examples of what's coming in spring 2025. And as I mentioned earlier, speed is a capability we're building, which we feel increasingly strong about. And brand is getting strong. With [Eurochamps] (ph), you see our awaken your madness campaign, which is really the first of the bigger bolder brand voice you're going to hear and then we're very excited about the Olympics coming. A lot of the work that went into the Olympics happened in Q4, but you're going to get to see it in a few weeks. And then on marketplace, we've spent a lot of time leaning in with our wholesale partners. We've had several wholesale partner summits. We've had RSG groups, neighborhood partners and authenticators to campus. We're exposing our three-year product innovation pipeline to them. And feedback's been very strong. Our order book for holiday spring 2025, holiday 2024, spring 2025 is strong. And so our confidence is building. So on the fundamentals that we are executing against is proven playbook on a comeback that will take time, we feel like we've made strong progress. [Matthew Friend] And just hitting the financial implications relative to 90 days ago. Last quarter we said that we thought revenue was going to be down low single digits in the first half and that included a more pronounced impact in the first quarter. We also said that we expected revenue to grow. And what we saw in the fourth quarter were really two things. One lifestyle, our lifestyle business declining more pronounced on NIKE Digital, specifically in April and in May, and those trends continuing into June. And what I highlighted in my prepared remarks is that, those specific classic franchises that we were talking about underperformed our overall digital business results in the fourth quarter. And so, when we look at our updated guidance of down mid-single digits for the full year, there's really three things that are driving the change. One, I'll start with FX, our outlook on foreign exchange and the strength of the US dollar had a one-point impact relative to 90 days ago. We've softened our outlook for greater China, and that also similarly had a level of impact for the full year guidance. And then the majority of the remainder of the change is related to the more aggressive actions that we're taking on our key franchises across the total marketplace, but really with the compounded impact on total digital. And the bigger impact of this will be in the first half of this year, but we are planning for meaningful sequential improvement in the second half of the year. And that's how I think about the revenue differences relative to -- the revenue differences relative to what we said 90 days ago. On the first quarter, the other impact was timing. And we saw the 6/18 period come earlier into May than we had in the prior year, and that had an impact on Q4's results, but also an impact on Q1's results. And we saw some favorable shipment timing in North America as we prepare to go live with our ERP and also just better general product availability. So that also had an impact on the first quarter numbers. [John Donahoe] And I just want to add 1 more thing that you, Matthew, you've heard Matt and I both talk about it. It's an intangible thing, but I think it's just so important, which is, the heart and hustle of our team, which has just been extraordinary over the last year, but also in the last 90 days just accelerating both Heidi's and Craig's teams, the teamwork of how they're working together end-to-end the focus and focus on the consumer, the increasing speed, pulling things forward. There's a palpable shift in the confidence and forward-looking nature of our team. So I want to give huge credit to them, but also just recognize that is so important in NIKE and our teams are, I think, feeling more confident as each day comes along. [Operator] Our next question will come from the line of Lorraine Hutchinson with Bank of America. Please go ahead. [Lorraine Hutchinson] Thank you. Good afternoon. Can you provide some numbers that might help us have confidence in the meaningful second-half improvements? How much less of a headwind is there from the sun setting some of these franchises? How the total order books look? And anything you can provide numerically that helps you to get to that back half improvement. [John Donahoe] Well, Lorraine, as I mentioned, we've looked at a number of different factors and scenarios as we've updated our guidance for the year. And that ranges from looking at different slopes of different curves of different products over time and developing a perspective on how we think the trends are going to play out as it relates to some of our largest franchises. But those franchises continue to drive retail sales growth and high levels of full price realization in the marketplace. And so the bigger impact on the first half are the adjustments that we're taking to manage the health of those franchises starting first with NIKE Digital. And that has a pronounced impact on revenue, which is creating a more meaningful first half impact. We want to continue to let those franchises in the multi-brand environment continue to have the impact that they're having for our partners. And one of the ways that we maintain the health of those is by reducing what we're offering to consumers through our digital channel. As it relates to the second half, we highlighted a couple of things, but we are planning for meaningful sequential improvement in the second half versus the first half. And it starts with the confidence that we have around the new products that we're bringing to market, the Peg 41, the Peg premium, the Vomero 18, the order book for Air Max DN, plus the next Air Max iteration that's going to be coming to market, plus our plans to scale the innovation and the newness that we've been discussing. And so, when we look at where we are today and the ways in which we're working to drive this plan through the balance of the fiscal year, our scaling of newness is on track. And our teams are hustling to see whether there's even opportunities to accelerate the scaling of that newness in the second half. We are confident in the indicators that we're seeing in the marketplace right now. We gave you a couple of specific numbers as it relates to running and running specialty. But what I will tell you is that, our initial read of our spring order book is in line with the guidance that we're providing. And so we feel confident that we're creating better balance across our portfolio and also building momentum with our wholesale partners. [Operator] Our next question will come from the line of Bob Drbul with Guggenheim Securities. Please go ahead. [Robert Drbul] Hi. Just two questions for me. I guess the first one is, when you look at the visibility of the business, I think in some of your answers to Lorraine's questions. When you look at the visibility of the business today, with the shifts that are occurring, can you just talk about how you feel looking at that versus what you saw over the last 12 and 24 months, just in terms of your ability to predict? And then, just the second piece of this is, when you look at the channel shift that is going on wholesale to direct or bricks-and-mortar, the digital pieces of the business, can you just give us any more framework around how to think about the P&L impacts at a higher level? [John Donahoe] Sure, Bob. Well, as it relates to the visibility with the shifts, I mean, we were surprised at what we saw on these larger franchises as we are navigating through the fourth quarter and that is what's caused us to revise our guidance. I would say in general, we've driven incredible growth in our digital business over the last four years, and we've had a lot of confidence in our ability to continue to drive those results against the consumer opportunity that's in the marketplace. I think most recently, in the context of managing our overall franchises, the dynamic of increasing supply of these franchises in the wholesale marketplace relative to having the supply of them on digital and the relative balance between those things are -- those factors are what drove some of the volatility this quarter. And looking at the trend in retail sales, but also looking at our overall plans for how we manage franchises, based on our experience of doing this, we've made the adjustments in this forward-looking guidance. And we've been more aggressive with it on NIKE Digital. And so, we're continuing to improve with the capabilities that we're building in terms of demand sensing, leveraging data and insights in order to have better predictability of our owned business. But I feel really good about the adjustments that we're making at this point in time and the aggressiveness through which we are -- the rest of the way that we continue to manage it. I'd also just say that, when I look at the digital business overall, we were already planning for lower launches in Q4, because we had an extraordinary number of launches in the fourth quarter of the prior year. And if I exclude the impact of the biggest franchises on our digital business, the rest of our digital business was healthy. And we were pleased with the growth that it delivered. And so, from that end, we feel comfortable in the way that we're looking at this. As far as the channel shift mix going forward, it certainly will have a headwind in fiscal year 2025, both in terms of revenue, as I just mentioned in answering a prior question, but also on margin. And these products also have an outweighed impact on margin, just given the high levels of full price realization that we've been driving across these franchises. And so, we are planning for channel mix to be a headwind in 2025. But I'm pleased that we're still able to expand margins 10 basis points to 30 basis points in the year. And that's despite another year of about 15 basis points of foreign exchange headwinds. So we are expanding margins as we look towards fiscal year 2025. And we still believe while channel mix may be less of a driver as we look forward, we have a number of other opportunities to continue to drive more profitable business over the long term. And it starts with a strong brand, and it starts with creating great products that consumers love. [Matthew Friend] And I'd add to that a healthy marketplace, where it's -- channel mix is driven by consumer demand. We said we want to be where the consumer is, whether that's digital or outdoor or wholesale. And so, we're embracing a more balanced approach to growing the whole marketplace. And a couple of nice evidence points of what I think health looks like is, we've mentioned that performance grew double digits in the quarter. It grew double digits in wholesale and it grew double digits on digital. The first couple of weeks of Peg 41 sold through well in wholesale and it sold well in NIKE Direct, both digital and outdoors. And so, over time, our channel mix should be driven by consumer being -- at the consumer at the right time and given shopping occasion. And so, we think it'll settle out in a consumer-friendly way. [Operator] Our next question comes from the line of Adrienne Yih with Barclays. [Adrienne Yih] Great. Thank you very much. I was wondering if you can talk about the amount of newness that is coming down the pipeline, kind of over the next six to 12 months. Has there been another time when NIKE has historically launched this magnitude of newness? And how do you read sort of the second degree of the consumer rates as going into the wholesale channel first? How do you read the success of that at the end consumer as it goes through the wholesale pipeline? Thank you. [John Donahoe] Well, as we've said, we've said it for now for a couple quarters, we are very excited about this multi-year innovation pipeline and cycle. And it's just -- if you've seen some early examples of it in this past quarter with DN and Peg 41, and as we are saying, as we move into the end of this -- second half of this fiscal year, which we talk about is spring 2025 and summer 2025 of this season, the amount and breadth and depth of the innovation is just accelerating significantly. And at our size and scale, we know we need to both innovate broadly and deeply, but also provide innovations that can scale. And so, we've set a goal of doubling the growth of our new innovations by the end of 2025 versus the beginning of 2024. And we're on track to achieve that. And one of the ways when you ask how do we know that, the wholesale partner feedback on what they see both in the second half of this year and into 2026, because we're showing them three year roadmaps in many cases around running, around basketball, around lifestyle. The wholesale feedback has been strong and their order books, as Matt mentioned a minute ago, are reflecting that. And so, we view our job to be able to deliver season in, season out, strong innovations, also the ability to scale those innovations over time, both to delight consumers and also bring us to healthy and sustainable growth. So we feel very good about the track we're on, and we think it will accelerate as the year goes on. [Matthew Friend] Adrienne, I would just add that one element of newness is also in the lifestyle side of the business. Over the last four years, we have driven double-digit growth and created an extraordinary amount of energy. We've created iterations and dimensions to Air Force 1, to Air Jordan 1, to the Dunk business. And as a result of that, we've created extraordinary consumer demand. And so, one element of us bringing newness to the market is actually going into NIKE's vaults, what no one else has, and being able to create energy the way that we've done over the last four years to be able to move consumers on to a new place. And it's something that we can do, that we have a proven track record doing. In fiscal year 2019, the Dunk represented 0% of NIKE's business. And we\\u2019ve scaled that dramatically with strong consumer appeal and response over the last three years. And now we're managing that franchise back to continue to ensure that demand in the marketplace is greater than the supply that we're offering. And that is how we're managing these franchises. And so, on the one hand, there's certainly a performance innovation side. And what we showed in Paris and what John was highlighting in terms of what's coming, we feel great about. But there's also an element of NIKE taking advantage of its vault of assets and bringing new innovation, new stories, new partnerships to bring new products to market to capture an incredible amount of sneaker demand out in the marketplace. [Operator] Your next question comes from the line of Brooke Roach with Goldman Sachs. Please go ahead. [Brooke Roach] Good afternoon, and thank you for taking our question. I wanted to follow up on Adrienne's question and your comment about the franchise management that you're focused on for FY 2025. Can you contextualize the importance of these larger classic franchises in relation to NIKE's current sales in comparison to historical averages? Do you expect to be remixed to typical franchise penetration rates by the end of the year as you scale these new innovations? And then perhaps a follow up for Matt. Can you provide some additional color on how you're thinking about the gross margin bridge and the tailwinds that you expect from input cost, and pricing relative to some of the headwinds that you see? Thank you. [John Donahoe] I mean, these franchises are the largest franchises in industry history. And so -- and they've gotten that way based on consumer demand. And so, we certainly started managing these franchises a couple years ago. And what we were most focused on was the fact that we needed to restrict supply of these franchises into the marketplace, because we didn't -- because we had a gap in innovation in our pipeline, which we've talked about over the last couple of calls. And so, the intentionality around managing these franchises is that, newness is what's moving the consumer, and we wanted to move to more newness. And so, the significance of it is the impact that it's going to take in fiscal year 2025 on our financial outlook as we're pulling the amount of supply down and creating better balance in our portfolio. And when I say that, I don't mean that lightly. I mean, better balance between performance and lifestyle, better balance between high price points and lower price points, better balance between wholesale and direct, even within wholesale, between sporting goods and athletic specialty or other channels. And so, that is where our focus is. And I think the actions that we're taking and the guidance that we've provided is to follow through on those actions. And I've been at NIKE for over 15 years, and we've gone through these product cycle transitions before. And while this is challenging, and it's going to be challenging over the next couple of quarters, our history has demonstrated that when we take action and we do it aggressively, and we get behind the things that are new, and we build marketing and storytelling around it, we move the consumer fairly quickly to a new place. And what we're doing here is nothing different than that. [Operator] Our next question will come from the line of Michael Binetti with Evercore. Please go ahead. [Michael Binetti] Hey, guys. Thanks for taking our question here. And thanks for all the details as we look out for 2025. I guess as we look beyond 2025, you've given us a work -- a year where you've got a lot of work you're going to do here. As you know, you\\u2019ll have classics cleaner, you'll have the channel mix more stable, you'll have the innovation working. Can you just help us think about within a historical context in the past, I think you spoke to a NIKE that could grow high single digits, but I think in the future wholesale plays more of a role. China maybe doesn't grow what it once did. So a few things like that that are kind of different than the old world. Maybe you can help us think about what you see as the longer term opportunity for this business as channels, geos, and franchises come back into alignment. And then I guess just at a bigger picture, we could see the lab is back at work bringing out new technologies on the performance side, but maybe walk us through how you can use innovation and performance and how you can create the halo for lifestyle, which is really just more cyclical product. I'm curious how you guys look at the catalog and how you lean on innovation to try to drive the lifestyle stuff back to growth. [John Donahoe] Well, I might just start, Michael, by saying as we get to a more -- through some of this portfolio adjustment, we still have significant tailwinds in our industry. The fact is, sport is growing. The definition of sport is growing. Healthy lifestyles is becoming embraced globally. I was in China a couple weeks ago. It was very striking, the focus on healthy lifestyles. So I think there's a structural tailwind for the industry. I also think where sport happens, it's one of the derivatives of the post-COVID environment. You don't have to go to the gym or the field. You're working out in your backyard or working out or taking a walk or -- So sports happening in many more places. And that line between sport and lifestyle is blurring with that leisure. And so, people want to look, have great style while they're doing sport, and they want to have sport inspired style when they're not doing sport. And so we view all those things as tailwinds. And you ask about lifestyle innovation, we want to be sport-based in our lifestyle innovation, both in footwear and apparel. And we think there's a tremendous opportunity to do that across men's, women's, and kids, and Jordan. Jordan Streetwear being an example of it. [Matthew Friend] Yes, I'll just finish up this question, and then I'll come back to the start, Michael, where you asked. I would also say that the lines that blur between performance and lifestyle are really as much about how consumers are using products. The one thing that's undoubtable is that the consumer wants more comfort. And you can see that across the marketplace. Our teams are absolutely focused on fit and comfort as we bring these new iterations to market. And I think that when you look at products like Peg Premium or even the Peg 41 or the Vomero 18, I think you're going to start to see consumers carrying those over into lifestyle because they're new, they're fresh, they've got a particular look. And so, we're balancing the fact that the consumer is voting for performance and innovation. And we need to make sure that we've got performance and innovation that they can wear every day, in addition to leveraging the vault, as I said before, leveraging the vault to bring classics back, because there will always be a classics business. There will always be an energy business around classic lifestyle products. And we've got a great vault to be able to leverage doing that. As it relates to your question about the long-term model, I guess here's what I would say. We're focused on driving unit growth. And I think I said that a couple quarters ago and the importance of that point was that, it wasn't about one particular channel or the other, it's growing the overall marketplace. And so, we're focused on driving unit growth where the consumer is. And given where we see the dynamics in the marketplace right now, we're also focused on taking back market share. And we see opportunity in the performance dimensions in particular to come strong with a strong pipeline of innovation to come back and to take market share. But this product transition is going to take a little bit of time for us to work through. And so, over the course of the next couple of quarters, we're going to execute the plan that we've laid out here for fiscal 2025. At Investor Day in November, we will provide an updated outlook on growth and profitability, taking into consideration the marketplace dynamics that we're dealing with across the portfolio, where we are in the product transition, and also some of the strategic shifts that we've put into place over the last year. [Operator] Your next question will come from the line of Aneesha Sherman with Bernstein. Please go ahead. [Aneesha Sherman] Thank you. I have a -- I start with just a quick follow-up. Matt, you talked about the challenge for the next couple of quarters on private life cycle management. Can you clarify, are you expecting this reset to be done by the end of the fiscal year? So are you expecting to exit FY 2025 at a normalized run rate on the top line without the headwind? And then second, I'm curious about where you are on the organizational reset and kind of shifting of the cost base. How much of that $2 billion cost reallocation do you expect to be done with by the end of the fiscal year? Is it going to be front loaded or is it going to be spread out for the next couple of years? Thank you. [Matthew Friend] Yes, no problem. So on your first question, the actions that we're taking on NIKE Direct and Digital are more aggressive. And so, the adjustments that we're making to our plan, specifically as it relates to our own channels, are going to be largely taken into consideration in the first half of this year. We will continue to manage franchises, because you can picture a curve that goes up and a curve that comes down. And as the curve comes down, it doesn't happen in a moment. It happens naturally over time as consumers react to supply coming out of the marketplace. But the actions that we're taking are also causing us to look at the broader marketplace in the second half of the year and ensure that we're reducing supply there as well to maintain a healthy marketplace and also to ensure that we've got capacity in the market to bring newness in. So I mentioned that we're planning on scaling newness, that newness is scaling as we make our way up through the year from minus 10 in the first quarter to down high single digits in the first half to finishing the year at down mid-single digits. And the largest driver of that is going to be on the full year basis, the scaling of newness that we're bringing to market. We expect to exit the year with momentum. And that means that we expect the new things that we're bringing to market to begin to outweigh the franchise management that we're navigating through in this year. And as we look forward to 2026, we'll continue to manage these franchises in line with consumer demand. But what's going to make it -- what makes that possible is the fact that we've got more new things coming that we're driving energy around that will be more than offsetting the way that we manage those franchises. [John Donahoe] And then, Aneesha, on your second question, the way you asked it, I want to just distinguish one thing. You mentioned organizational reset. That's behind us. And as I mentioned earlier, we are now completely aligned across the organization around sport, field of play. And our teams are focused, they're excited, there's just a tremendous amount of hustle throughout the organization and you can feel it. And so, that's going to continue. So the headcount dimension of the Save to Invest is behind us. And now those teams are focused on driving for the consumer innovation and execution. We'll look to other areas to provide ways of savings, non-labor areas. Matt, you can describe some of these, but the organization is now 100% focused on driving the growth and innovation we've been talking about through our call. And I can, again, just reassure you that everyone's got energy, hustle, and excitement about the future. [Matthew Friend] Yes, I mean, we've been focused -- as we've been talking about, about building an operating model that with greater speed and cost productivity as we grow. And so, the actions that we've taken over the past year has enabled us the opportunity to make some bold swings in fiscal year 2025. We've reallocated a billion dollars into consumer facing activities. That includes teammates that we've invested in and product design, building out the merchandising function. To John's point, we have sport focused teams now at global and in the geographies in order to be able to execute this new offense. And we're putting more of our investment dollars in demand creation, while we're managing operating overhead tightly. We did that in fiscal year 2024. You saw even with the restructuring charge some significant effort to manage operating overhead so that we could reallocate resources, as I've referenced. And while these investments will take some time to drive a return, they're absolutely the right thing for us to do to reignite brand momentum and to get us back on the offense with consumers. And so, that's what we've done, and we will continue to manage SG&A tightly, leveraging this program and this initiative to create the capacity for us to invest, to push us forward with the consumer. [John Donahoe] As we wrap up, Paul, just one \\u2013 maybe just one final comment. This is -- and this is intended for NIKE's team around the world. This has been a challenging last year and so much hard work and energy has gone into it. And I want to just thank everybody on NIKE's team globally for how you've led through this and how you've operated through this. It's so clear to me, and I'm saying this on behalf of Matt and Heidi and Craig and our whole leadership team. NIKE's real competitive advantage at the end of the day is NIKE's people and NIKE's culture. And so, those people and that culture is alive and well and ready to compete and hungry to drive the kind of execution and growth we've been talking about all call. So I just want to wrap up with thanks to everyone on NIKE's global team. [Paul Trussell] Thank you for joining our fourth quarter fiscal 2024 call. We look forward to hosting many of you here at the headquarters for our Investor Day in late November. More details to come. This concludes our call. Good evening. [Operator] Thank you all for joining today's call. You may now disconnect.\"\n        ],\n        \"semantic_type\": \"\",\n        \"description\": \"\"\n      }\n    }\n  ]\n}"
            }
          },
          "metadata": {},
          "execution_count": 18
        }
      ],
      "source": [
        "# Examine the first five rows\n",
        "transcripts_df.head()"
      ]
    },
    {
      "cell_type": "code",
      "source": [
        "# Limit dataframe to just IBM, MSFT and Google to speed up creation of vector embeddings and reduce OpenAI cost\n",
        "transcripts_df = transcripts_df[transcripts_df['Ticker'].isin(['IBM', 'MSFT', 'GOOGL'])]"
      ],
      "metadata": {
        "id": "JS6vEngIMX-G"
      },
      "execution_count": 19,
      "outputs": []
    },
    {
      "cell_type": "code",
      "source": [
        "# Check all rows are there for the three tickers as expected\n",
        "transcripts_df.head(15)"
      ],
      "metadata": {
        "colab": {
          "base_uri": "https://localhost:8080/",
          "height": 426
        },
        "id": "CZL6rgB-MxXW",
        "outputId": "bfc2f0c8-0b9a-4dbf-8e34-7f1695b3907c"
      },
      "execution_count": 20,
      "outputs": [
        {
          "output_type": "execute_result",
          "data": {
            "text/plain": [
              "    Ticker         Industry  Year  Quarter        Date  \\\n",
              "83   GOOGL  AI-focused Tech  2024        1  2024-04-25   \n",
              "84   GOOGL  AI-focused Tech  2024        2  2024-07-23   \n",
              "85   GOOGL  AI-focused Tech  2024        3  2024-10-29   \n",
              "86   GOOGL  AI-focused Tech  2024        4  2025-02-04   \n",
              "95     IBM  AI-focused Tech  2024        1  2024-04-24   \n",
              "96     IBM  AI-focused Tech  2024        2  2024-07-24   \n",
              "97     IBM  AI-focused Tech  2024        3  2024-10-23   \n",
              "98     IBM  AI-focused Tech  2024        4  2025-01-29   \n",
              "135   MSFT  AI-focused Tech  2024        1  2023-10-24   \n",
              "136   MSFT  AI-focused Tech  2024        2  2024-01-30   \n",
              "137   MSFT  AI-focused Tech  2024        3  2024-04-25   \n",
              "138   MSFT  AI-focused Tech  2024        4  2024-07-30   \n",
              "\n",
              "                                            Transcript  \n",
              "83   [Operator] Welcome, everyone. Thank you for st...  \n",
              "84   [Operator] Welcome, everyone. Thank you for st...  \n",
              "85   [Operator] Welcome, everyone. Thank you for st...  \n",
              "86   [Operator] Welcome, everyone. Thank you for st...  \n",
              "95   [Operator] Welcome, and thank you for standing...  \n",
              "96   [Operator] Welcome and thank you for standing-...  \n",
              "97   [Operator] Welcome, and thank you for standing...  \n",
              "98   [Operator] Welcome, and thank you for standing...  \n",
              "135  [Operator] Greetings, and welcome to the Micro...  \n",
              "136  [Operator] Greetings, and welcome to the Micro...  \n",
              "137  [Operator] Greetings and welcome to the Micros...  \n",
              "138  [Operator] Greetings and welcome to the Micros...  "
            ],
            "text/html": [
              "\n",
              "  <div id=\"df-3a746031-9bc8-4f98-9e25-f7c0ea568229\" class=\"colab-df-container\">\n",
              "    <div>\n",
              "<style scoped>\n",
              "    .dataframe tbody tr th:only-of-type {\n",
              "        vertical-align: middle;\n",
              "    }\n",
              "\n",
              "    .dataframe tbody tr th {\n",
              "        vertical-align: top;\n",
              "    }\n",
              "\n",
              "    .dataframe thead th {\n",
              "        text-align: right;\n",
              "    }\n",
              "</style>\n",
              "<table border=\"1\" class=\"dataframe\">\n",
              "  <thead>\n",
              "    <tr style=\"text-align: right;\">\n",
              "      <th></th>\n",
              "      <th>Ticker</th>\n",
              "      <th>Industry</th>\n",
              "      <th>Year</th>\n",
              "      <th>Quarter</th>\n",
              "      <th>Date</th>\n",
              "      <th>Transcript</th>\n",
              "    </tr>\n",
              "  </thead>\n",
              "  <tbody>\n",
              "    <tr>\n",
              "      <th>83</th>\n",
              "      <td>GOOGL</td>\n",
              "      <td>AI-focused Tech</td>\n",
              "      <td>2024</td>\n",
              "      <td>1</td>\n",
              "      <td>2024-04-25</td>\n",
              "      <td>[Operator] Welcome, everyone. Thank you for st...</td>\n",
              "    </tr>\n",
              "    <tr>\n",
              "      <th>84</th>\n",
              "      <td>GOOGL</td>\n",
              "      <td>AI-focused Tech</td>\n",
              "      <td>2024</td>\n",
              "      <td>2</td>\n",
              "      <td>2024-07-23</td>\n",
              "      <td>[Operator] Welcome, everyone. Thank you for st...</td>\n",
              "    </tr>\n",
              "    <tr>\n",
              "      <th>85</th>\n",
              "      <td>GOOGL</td>\n",
              "      <td>AI-focused Tech</td>\n",
              "      <td>2024</td>\n",
              "      <td>3</td>\n",
              "      <td>2024-10-29</td>\n",
              "      <td>[Operator] Welcome, everyone. Thank you for st...</td>\n",
              "    </tr>\n",
              "    <tr>\n",
              "      <th>86</th>\n",
              "      <td>GOOGL</td>\n",
              "      <td>AI-focused Tech</td>\n",
              "      <td>2024</td>\n",
              "      <td>4</td>\n",
              "      <td>2025-02-04</td>\n",
              "      <td>[Operator] Welcome, everyone. Thank you for st...</td>\n",
              "    </tr>\n",
              "    <tr>\n",
              "      <th>95</th>\n",
              "      <td>IBM</td>\n",
              "      <td>AI-focused Tech</td>\n",
              "      <td>2024</td>\n",
              "      <td>1</td>\n",
              "      <td>2024-04-24</td>\n",
              "      <td>[Operator] Welcome, and thank you for standing...</td>\n",
              "    </tr>\n",
              "    <tr>\n",
              "      <th>96</th>\n",
              "      <td>IBM</td>\n",
              "      <td>AI-focused Tech</td>\n",
              "      <td>2024</td>\n",
              "      <td>2</td>\n",
              "      <td>2024-07-24</td>\n",
              "      <td>[Operator] Welcome and thank you for standing-...</td>\n",
              "    </tr>\n",
              "    <tr>\n",
              "      <th>97</th>\n",
              "      <td>IBM</td>\n",
              "      <td>AI-focused Tech</td>\n",
              "      <td>2024</td>\n",
              "      <td>3</td>\n",
              "      <td>2024-10-23</td>\n",
              "      <td>[Operator] Welcome, and thank you for standing...</td>\n",
              "    </tr>\n",
              "    <tr>\n",
              "      <th>98</th>\n",
              "      <td>IBM</td>\n",
              "      <td>AI-focused Tech</td>\n",
              "      <td>2024</td>\n",
              "      <td>4</td>\n",
              "      <td>2025-01-29</td>\n",
              "      <td>[Operator] Welcome, and thank you for standing...</td>\n",
              "    </tr>\n",
              "    <tr>\n",
              "      <th>135</th>\n",
              "      <td>MSFT</td>\n",
              "      <td>AI-focused Tech</td>\n",
              "      <td>2024</td>\n",
              "      <td>1</td>\n",
              "      <td>2023-10-24</td>\n",
              "      <td>[Operator] Greetings, and welcome to the Micro...</td>\n",
              "    </tr>\n",
              "    <tr>\n",
              "      <th>136</th>\n",
              "      <td>MSFT</td>\n",
              "      <td>AI-focused Tech</td>\n",
              "      <td>2024</td>\n",
              "      <td>2</td>\n",
              "      <td>2024-01-30</td>\n",
              "      <td>[Operator] Greetings, and welcome to the Micro...</td>\n",
              "    </tr>\n",
              "    <tr>\n",
              "      <th>137</th>\n",
              "      <td>MSFT</td>\n",
              "      <td>AI-focused Tech</td>\n",
              "      <td>2024</td>\n",
              "      <td>3</td>\n",
              "      <td>2024-04-25</td>\n",
              "      <td>[Operator] Greetings and welcome to the Micros...</td>\n",
              "    </tr>\n",
              "    <tr>\n",
              "      <th>138</th>\n",
              "      <td>MSFT</td>\n",
              "      <td>AI-focused Tech</td>\n",
              "      <td>2024</td>\n",
              "      <td>4</td>\n",
              "      <td>2024-07-30</td>\n",
              "      <td>[Operator] Greetings and welcome to the Micros...</td>\n",
              "    </tr>\n",
              "  </tbody>\n",
              "</table>\n",
              "</div>\n",
              "    <div class=\"colab-df-buttons\">\n",
              "\n",
              "  <div class=\"colab-df-container\">\n",
              "    <button class=\"colab-df-convert\" onclick=\"convertToInteractive('df-3a746031-9bc8-4f98-9e25-f7c0ea568229')\"\n",
              "            title=\"Convert this dataframe to an interactive table.\"\n",
              "            style=\"display:none;\">\n",
              "\n",
              "  <svg xmlns=\"http://www.w3.org/2000/svg\" height=\"24px\" viewBox=\"0 -960 960 960\">\n",
              "    <path d=\"M120-120v-720h720v720H120Zm60-500h600v-160H180v160Zm220 220h160v-160H400v160Zm0 220h160v-160H400v160ZM180-400h160v-160H180v160Zm440 0h160v-160H620v160ZM180-180h160v-160H180v160Zm440 0h160v-160H620v160Z\"/>\n",
              "  </svg>\n",
              "    </button>\n",
              "\n",
              "  <style>\n",
              "    .colab-df-container {\n",
              "      display:flex;\n",
              "      gap: 12px;\n",
              "    }\n",
              "\n",
              "    .colab-df-convert {\n",
              "      background-color: #E8F0FE;\n",
              "      border: none;\n",
              "      border-radius: 50%;\n",
              "      cursor: pointer;\n",
              "      display: none;\n",
              "      fill: #1967D2;\n",
              "      height: 32px;\n",
              "      padding: 0 0 0 0;\n",
              "      width: 32px;\n",
              "    }\n",
              "\n",
              "    .colab-df-convert:hover {\n",
              "      background-color: #E2EBFA;\n",
              "      box-shadow: 0px 1px 2px rgba(60, 64, 67, 0.3), 0px 1px 3px 1px rgba(60, 64, 67, 0.15);\n",
              "      fill: #174EA6;\n",
              "    }\n",
              "\n",
              "    .colab-df-buttons div {\n",
              "      margin-bottom: 4px;\n",
              "    }\n",
              "\n",
              "    [theme=dark] .colab-df-convert {\n",
              "      background-color: #3B4455;\n",
              "      fill: #D2E3FC;\n",
              "    }\n",
              "\n",
              "    [theme=dark] .colab-df-convert:hover {\n",
              "      background-color: #434B5C;\n",
              "      box-shadow: 0px 1px 3px 1px rgba(0, 0, 0, 0.15);\n",
              "      filter: drop-shadow(0px 1px 2px rgba(0, 0, 0, 0.3));\n",
              "      fill: #FFFFFF;\n",
              "    }\n",
              "  </style>\n",
              "\n",
              "    <script>\n",
              "      const buttonEl =\n",
              "        document.querySelector('#df-3a746031-9bc8-4f98-9e25-f7c0ea568229 button.colab-df-convert');\n",
              "      buttonEl.style.display =\n",
              "        google.colab.kernel.accessAllowed ? 'block' : 'none';\n",
              "\n",
              "      async function convertToInteractive(key) {\n",
              "        const element = document.querySelector('#df-3a746031-9bc8-4f98-9e25-f7c0ea568229');\n",
              "        const dataTable =\n",
              "          await google.colab.kernel.invokeFunction('convertToInteractive',\n",
              "                                                    [key], {});\n",
              "        if (!dataTable) return;\n",
              "\n",
              "        const docLinkHtml = 'Like what you see? Visit the ' +\n",
              "          '<a target=\"_blank\" href=https://colab.research.google.com/notebooks/data_table.ipynb>data table notebook</a>'\n",
              "          + ' to learn more about interactive tables.';\n",
              "        element.innerHTML = '';\n",
              "        dataTable['output_type'] = 'display_data';\n",
              "        await google.colab.output.renderOutput(dataTable, element);\n",
              "        const docLink = document.createElement('div');\n",
              "        docLink.innerHTML = docLinkHtml;\n",
              "        element.appendChild(docLink);\n",
              "      }\n",
              "    </script>\n",
              "  </div>\n",
              "\n",
              "\n",
              "<div id=\"df-efa04001-5edf-4c3b-b159-1560dc7e5e05\">\n",
              "  <button class=\"colab-df-quickchart\" onclick=\"quickchart('df-efa04001-5edf-4c3b-b159-1560dc7e5e05')\"\n",
              "            title=\"Suggest charts\"\n",
              "            style=\"display:none;\">\n",
              "\n",
              "<svg xmlns=\"http://www.w3.org/2000/svg\" height=\"24px\"viewBox=\"0 0 24 24\"\n",
              "     width=\"24px\">\n",
              "    <g>\n",
              "        <path d=\"M19 3H5c-1.1 0-2 .9-2 2v14c0 1.1.9 2 2 2h14c1.1 0 2-.9 2-2V5c0-1.1-.9-2-2-2zM9 17H7v-7h2v7zm4 0h-2V7h2v10zm4 0h-2v-4h2v4z\"/>\n",
              "    </g>\n",
              "</svg>\n",
              "  </button>\n",
              "\n",
              "<style>\n",
              "  .colab-df-quickchart {\n",
              "      --bg-color: #E8F0FE;\n",
              "      --fill-color: #1967D2;\n",
              "      --hover-bg-color: #E2EBFA;\n",
              "      --hover-fill-color: #174EA6;\n",
              "      --disabled-fill-color: #AAA;\n",
              "      --disabled-bg-color: #DDD;\n",
              "  }\n",
              "\n",
              "  [theme=dark] .colab-df-quickchart {\n",
              "      --bg-color: #3B4455;\n",
              "      --fill-color: #D2E3FC;\n",
              "      --hover-bg-color: #434B5C;\n",
              "      --hover-fill-color: #FFFFFF;\n",
              "      --disabled-bg-color: #3B4455;\n",
              "      --disabled-fill-color: #666;\n",
              "  }\n",
              "\n",
              "  .colab-df-quickchart {\n",
              "    background-color: var(--bg-color);\n",
              "    border: none;\n",
              "    border-radius: 50%;\n",
              "    cursor: pointer;\n",
              "    display: none;\n",
              "    fill: var(--fill-color);\n",
              "    height: 32px;\n",
              "    padding: 0;\n",
              "    width: 32px;\n",
              "  }\n",
              "\n",
              "  .colab-df-quickchart:hover {\n",
              "    background-color: var(--hover-bg-color);\n",
              "    box-shadow: 0 1px 2px rgba(60, 64, 67, 0.3), 0 1px 3px 1px rgba(60, 64, 67, 0.15);\n",
              "    fill: var(--button-hover-fill-color);\n",
              "  }\n",
              "\n",
              "  .colab-df-quickchart-complete:disabled,\n",
              "  .colab-df-quickchart-complete:disabled:hover {\n",
              "    background-color: var(--disabled-bg-color);\n",
              "    fill: var(--disabled-fill-color);\n",
              "    box-shadow: none;\n",
              "  }\n",
              "\n",
              "  .colab-df-spinner {\n",
              "    border: 2px solid var(--fill-color);\n",
              "    border-color: transparent;\n",
              "    border-bottom-color: var(--fill-color);\n",
              "    animation:\n",
              "      spin 1s steps(1) infinite;\n",
              "  }\n",
              "\n",
              "  @keyframes spin {\n",
              "    0% {\n",
              "      border-color: transparent;\n",
              "      border-bottom-color: var(--fill-color);\n",
              "      border-left-color: var(--fill-color);\n",
              "    }\n",
              "    20% {\n",
              "      border-color: transparent;\n",
              "      border-left-color: var(--fill-color);\n",
              "      border-top-color: var(--fill-color);\n",
              "    }\n",
              "    30% {\n",
              "      border-color: transparent;\n",
              "      border-left-color: var(--fill-color);\n",
              "      border-top-color: var(--fill-color);\n",
              "      border-right-color: var(--fill-color);\n",
              "    }\n",
              "    40% {\n",
              "      border-color: transparent;\n",
              "      border-right-color: var(--fill-color);\n",
              "      border-top-color: var(--fill-color);\n",
              "    }\n",
              "    60% {\n",
              "      border-color: transparent;\n",
              "      border-right-color: var(--fill-color);\n",
              "    }\n",
              "    80% {\n",
              "      border-color: transparent;\n",
              "      border-right-color: var(--fill-color);\n",
              "      border-bottom-color: var(--fill-color);\n",
              "    }\n",
              "    90% {\n",
              "      border-color: transparent;\n",
              "      border-bottom-color: var(--fill-color);\n",
              "    }\n",
              "  }\n",
              "</style>\n",
              "\n",
              "  <script>\n",
              "    async function quickchart(key) {\n",
              "      const quickchartButtonEl =\n",
              "        document.querySelector('#' + key + ' button');\n",
              "      quickchartButtonEl.disabled = true;  // To prevent multiple clicks.\n",
              "      quickchartButtonEl.classList.add('colab-df-spinner');\n",
              "      try {\n",
              "        const charts = await google.colab.kernel.invokeFunction(\n",
              "            'suggestCharts', [key], {});\n",
              "      } catch (error) {\n",
              "        console.error('Error during call to suggestCharts:', error);\n",
              "      }\n",
              "      quickchartButtonEl.classList.remove('colab-df-spinner');\n",
              "      quickchartButtonEl.classList.add('colab-df-quickchart-complete');\n",
              "    }\n",
              "    (() => {\n",
              "      let quickchartButtonEl =\n",
              "        document.querySelector('#df-efa04001-5edf-4c3b-b159-1560dc7e5e05 button');\n",
              "      quickchartButtonEl.style.display =\n",
              "        google.colab.kernel.accessAllowed ? 'block' : 'none';\n",
              "    })();\n",
              "  </script>\n",
              "</div>\n",
              "\n",
              "    </div>\n",
              "  </div>\n"
            ],
            "application/vnd.google.colaboratory.intrinsic+json": {
              "type": "dataframe",
              "variable_name": "transcripts_df",
              "repr_error": "0"
            }
          },
          "metadata": {},
          "execution_count": 20
        }
      ]
    },
    {
      "cell_type": "code",
      "execution_count": 21,
      "metadata": {
        "colab": {
          "base_uri": "https://localhost:8080/",
          "height": 147
        },
        "id": "zDrWES2AFIi_",
        "outputId": "1c3772c7-1394-46f0-b79c-fcc1ebdfa44f"
      },
      "outputs": [
        {
          "output_type": "execute_result",
          "data": {
            "text/plain": [
              "Industry\n",
              "AI-focused Tech    12\n",
              "Name: count, dtype: int64"
            ],
            "text/html": [
              "<div>\n",
              "<style scoped>\n",
              "    .dataframe tbody tr th:only-of-type {\n",
              "        vertical-align: middle;\n",
              "    }\n",
              "\n",
              "    .dataframe tbody tr th {\n",
              "        vertical-align: top;\n",
              "    }\n",
              "\n",
              "    .dataframe thead th {\n",
              "        text-align: right;\n",
              "    }\n",
              "</style>\n",
              "<table border=\"1\" class=\"dataframe\">\n",
              "  <thead>\n",
              "    <tr style=\"text-align: right;\">\n",
              "      <th></th>\n",
              "      <th>count</th>\n",
              "    </tr>\n",
              "    <tr>\n",
              "      <th>Industry</th>\n",
              "      <th></th>\n",
              "    </tr>\n",
              "  </thead>\n",
              "  <tbody>\n",
              "    <tr>\n",
              "      <th>AI-focused Tech</th>\n",
              "      <td>12</td>\n",
              "    </tr>\n",
              "  </tbody>\n",
              "</table>\n",
              "</div><br><label><b>dtype:</b> int64</label>"
            ]
          },
          "metadata": {},
          "execution_count": 21
        }
      ],
      "source": [
        "# Check different values of industry in dataframe\n",
        "transcripts_df['Industry'].value_counts()"
      ]
    },
    {
      "cell_type": "code",
      "execution_count": 22,
      "metadata": {
        "id": "NAnTJFoFFXFc"
      },
      "outputs": [],
      "source": [
        "# get alphabetical list of Industries\n",
        "industries_list = sorted(transcripts_df['Industry'].unique().tolist())"
      ]
    },
    {
      "cell_type": "code",
      "source": [
        "# Display list of industries\n",
        "industries_list"
      ],
      "metadata": {
        "colab": {
          "base_uri": "https://localhost:8080/"
        },
        "id": "fJLhzisFk43B",
        "outputId": "556c0823-d4ba-447f-f89d-9cbf04faeda1"
      },
      "execution_count": 23,
      "outputs": [
        {
          "output_type": "execute_result",
          "data": {
            "text/plain": [
              "['AI-focused Tech']"
            ]
          },
          "metadata": {},
          "execution_count": 23
        }
      ]
    },
    {
      "cell_type": "code",
      "execution_count": 24,
      "metadata": {
        "colab": {
          "base_uri": "https://localhost:8080/",
          "height": 210
        },
        "id": "yxqrjN9jYVlt",
        "outputId": "5267c9b2-b78f-45e2-9123-36574afc8934"
      },
      "outputs": [
        {
          "output_type": "execute_result",
          "data": {
            "text/plain": [
              "Ticker\n",
              "GOOGL    4\n",
              "IBM      4\n",
              "MSFT     4\n",
              "Name: count, dtype: int64"
            ],
            "text/html": [
              "<div>\n",
              "<style scoped>\n",
              "    .dataframe tbody tr th:only-of-type {\n",
              "        vertical-align: middle;\n",
              "    }\n",
              "\n",
              "    .dataframe tbody tr th {\n",
              "        vertical-align: top;\n",
              "    }\n",
              "\n",
              "    .dataframe thead th {\n",
              "        text-align: right;\n",
              "    }\n",
              "</style>\n",
              "<table border=\"1\" class=\"dataframe\">\n",
              "  <thead>\n",
              "    <tr style=\"text-align: right;\">\n",
              "      <th></th>\n",
              "      <th>count</th>\n",
              "    </tr>\n",
              "    <tr>\n",
              "      <th>Ticker</th>\n",
              "      <th></th>\n",
              "    </tr>\n",
              "  </thead>\n",
              "  <tbody>\n",
              "    <tr>\n",
              "      <th>GOOGL</th>\n",
              "      <td>4</td>\n",
              "    </tr>\n",
              "    <tr>\n",
              "      <th>IBM</th>\n",
              "      <td>4</td>\n",
              "    </tr>\n",
              "    <tr>\n",
              "      <th>MSFT</th>\n",
              "      <td>4</td>\n",
              "    </tr>\n",
              "  </tbody>\n",
              "</table>\n",
              "</div><br><label><b>dtype:</b> int64</label>"
            ]
          },
          "metadata": {},
          "execution_count": 24
        }
      ],
      "source": [
        "# Check different values of ticker in the dataframe\n",
        "transcripts_df['Ticker'].value_counts()"
      ]
    },
    {
      "cell_type": "code",
      "execution_count": 25,
      "metadata": {
        "id": "Tdtt2s4tacJT"
      },
      "outputs": [],
      "source": [
        "# get alphabetical list of Tickers where industry is AI-focused Tech\n",
        "tickers_list = sorted(transcripts_df[transcripts_df['Industry'] == 'AI-focused Tech']['Ticker'].unique().tolist())"
      ]
    },
    {
      "cell_type": "code",
      "execution_count": 26,
      "metadata": {
        "colab": {
          "base_uri": "https://localhost:8080/"
        },
        "id": "3echK3s5vbT_",
        "outputId": "2f4dfe57-23e0-4d1b-d551-cc460b8874ba"
      },
      "outputs": [
        {
          "output_type": "execute_result",
          "data": {
            "text/plain": [
              "['GOOGL', 'IBM', 'MSFT']"
            ]
          },
          "metadata": {},
          "execution_count": 26
        }
      ],
      "source": [
        "# display list of tickers\n",
        "tickers_list"
      ]
    },
    {
      "cell_type": "code",
      "execution_count": 27,
      "metadata": {
        "id": "kea5zwrVar1l"
      },
      "outputs": [],
      "source": [
        "# Create list of years\n",
        "year_list = sorted(transcripts_df['Year'].unique().tolist())"
      ]
    },
    {
      "cell_type": "code",
      "execution_count": 28,
      "metadata": {
        "colab": {
          "base_uri": "https://localhost:8080/"
        },
        "id": "JhblwOW1a0u0",
        "outputId": "709153b3-4f5c-4f67-db4f-2bd8632a9378"
      },
      "outputs": [
        {
          "output_type": "execute_result",
          "data": {
            "text/plain": [
              "[2024]"
            ]
          },
          "metadata": {},
          "execution_count": 28
        }
      ],
      "source": [
        "# Display list of years\n",
        "year_list"
      ]
    },
    {
      "cell_type": "code",
      "execution_count": 29,
      "metadata": {
        "id": "91CWn6yma2fl"
      },
      "outputs": [],
      "source": [
        "# Create list of quarters\n",
        "quarter_list = sorted(transcripts_df['Quarter'].unique().tolist())"
      ]
    },
    {
      "cell_type": "code",
      "execution_count": 30,
      "metadata": {
        "colab": {
          "base_uri": "https://localhost:8080/"
        },
        "id": "5h-WfS9ya4vN",
        "outputId": "06910710-2701-4da3-9df6-f33b8f88484d"
      },
      "outputs": [
        {
          "output_type": "execute_result",
          "data": {
            "text/plain": [
              "[1, 2, 3, 4]"
            ]
          },
          "metadata": {},
          "execution_count": 30
        }
      ],
      "source": [
        "# Display list of quarters\n",
        "quarter_list"
      ]
    },
    {
      "cell_type": "code",
      "execution_count": 31,
      "metadata": {
        "colab": {
          "base_uri": "https://localhost:8080/"
        },
        "id": "WeMWaPPEC4n8",
        "outputId": "908a3643-17c8-4847-fc94-ebc0f9231dd5"
      },
      "outputs": [
        {
          "output_type": "stream",
          "name": "stdout",
          "text": [
            "[Operator] Welcome, everyone. Thank you for standing by for the Alphabet First Quarter 2024 Earnings Conference Call. [Operator Instructions]   I would now like to hand the conference over to your speaker today, Jim Friedland, Director of Investor Relations. Please go ahead.  [James Friedland] Thank you. Good afternoon, everyone, and welcome to Alphabet's First Quarter 2024 Earnings Conference Call. With us today are Sundar Pichai, Philipp Schindler, and Ruth Porat.   Now I'll quickly cover the safe harbor. Some of the statements that we make today regarding our business, operations, and financial performance may be considered forward-looking. Such statements are based on current expectations and assumptions that are subject to a number of risks and uncertainties. Actual results could differ materially. Please refer to our Forms 10-K and 10-Q, including the risk factors. We undertake no obligation to update any forward-looking statement.   During this call, we will present both GAAP and non-GAAP financial measures. A reconciliation of non-GAAP to GAAP measures is included in today's earnings press release, which is distributed and available to the public through our Investor Relations website located at abc.xyz/investor. Our comments will be on year-over-year comparisons unless we state otherwise.   And now I'll turn the call over to Sundar.  [Sundar Pichai] Thank you, Jim, and hello, everyone. It was a great quarter led by strong performance from Search, YouTube, and Cloud.   Today, I want to share how we are thinking about the business and the opportunity more broadly. Of course, that's heavily focused on AI and Search. Then I'll take you through some highlights from the quarter in Cloud, YouTube and beyond.   Let's discuss our momentum and strategy. Taking a step back, it took Google more than 15 years to reach $100 billion in annual revenue. In just the last 6 years, we have gone from $100 billion to more than $300 billion in annual revenue. Of course, Search continues to power that as you see in our Q1 results. But in addition, we expect YouTube overall and Cloud to exit 2024 at a combined annual run rate of over $100 billion. This shows our track record of investing in and building successful new growing businesses.  [ Now let's look at how well we are positioned for the next wave of AI innovation and the opportunity ahead. There are 6 points to make] one, research leadership; two, infrastructure leadership; three, innovation in Search; four, our global product footprint; five, velocity in execution; six, monetization paths.   First, our foundation of research leadership. We've been an AI-first company since 2016, pioneering many of the modern breakthroughs that power AI progress for us and for the industry. Last week, we further consolidated teams that build AI models under Google DeepMind. This will help simplify development and establish a single access point for our product teams as they build generative AI applications with these models. The teams are making rapid progress, developing Gemini and other models.   In February, we rolled out Gemini 1.5 Pro, which shows dramatic performance enhancements across a number of dimensions. It includes a breakthrough in long context understanding, achieving the longest context window of any large-scale foundation model yet. Combining this with Gemini's native multimodal understanding across audio, video, text code and more, it's highly capable. We are already seeing developers and enterprise customers enthusiastically embrace Gemini 1.5 and use it for a wide range of things. Beyond Gemini, we have built other useful models, including our Gemma open models as well as image and visual models and others.   Second, infrastructure leadership. We have the best infrastructure for the AI era. Building world-leading infrastructure is in our DNA, starting in our earliest days when we had to design purpose-built hardware to power Search. Our data centers are some of the most high-performing, secure, reliable, and efficient in the world. They've been purpose-built for training cutting-edge AI models and designed to achieve unprecedented improvements in efficiency. We have developed new AI models and algorithms that are more than 100x more efficient than they were 18 months ago.   Our custom TPUs, now in their fifth generation, are powering the next generation of ambitious AI projects. Gemini was trained on and is served using TPUs. We are committed to making the investments required to keep us at the leading edge in technical infrastructure. You can see that from the increases in our capital expenditures. This will fuel growth in Cloud, help us push the frontiers of AI models and enable innovation across our services, especially in Search.   AI innovations in Search are the third and perhaps the most important point I want to make. We have been through technology shifts before, to the web, to mobile, and even to voice technology. Each shift expanded what people can do with Search and led to new growth. We are seeing a similar shift happening now with generative AI. For nearly a year, we've been experimenting with SGE in search labs across a wide range of queries. And now we are starting to bring AI overviews to the main Search results page. We are being measured in how we do this, focusing on areas where gen AI can improve the search experience while also prioritizing traffic to websites and merchants.   We have already served billions of queries with our generative AI features. It's enabling people to access new information, to ask questions in new ways and to ask more complex questions. Most notably, based on our testing, we are encouraged that we are seeing an increase in search usage among people who use the new AI overviews as well as increased user satisfaction with the results. And with Circle to Search, people can now circle what they see on their Android screens, ask a question about an image or object in a video and get an AI overview with Lens.   Fourth, our global product footprint beyond Search. We have 6 products with more than 2 billion monthly users, including 3 billion Android devices. 15 products have 0.5 billion users, and we operate across 100-plus countries. This gives us a lot of opportunities to bring helpful gen AI features and multimodal capabilities to people everywhere and improve their experiences. We have brought many new AI features to Pixel, Photos, Chrome, Messages and more. We are also pleased with the progress we are seeing with Gemini and Gemini Advanced through the Gemini app on Android and the Google app on iOS.   Fifth, improved velocity in execution. We've been really focused on simplifying our structures to help us move faster. In addition to bringing together our model-building teams under Google DeepMind, we recently unified our ML infrastructure and ML developer teams to enable faster decisions, smarter compute allocation, and a better customer experience.   Earlier this year, we brought our Search teams together under one leader. And last week, we took another step, bringing together our platforms and devices teams. The new combined team will focus on delivering high-quality products and experiences, bolstering the Android and Chrome ecosystems, and bringing our best innovations to partners faster.   We also remain focused on long-term efforts to durably reengineer our cost base. You can see the impact of this work reflected in our operating margin improvement. We continue to manage our head count growth and align teams with our highest priority areas. This speeds up decision-making, reduces layers, and enables us to invest in the right areas.   Beyond our teams, we are very focused on our cost structures, procurement and efficiency. And a number of technical breakthroughs are enhancing machine speed and efficiency, including the new family of Gemini models and a new generation of TPUs. For example, since introducing SGE about a year ago, machine costs associated with SGE responses have decreased 80% from when first introduced in Labs driven by hardware, engineering, and technical breakthroughs. We remain committed to all of this work.   Finally, our monetization path. We have clear paths to AI monetization through Ads and Cloud as well as subscriptions. Philipp will talk more about new AI features that are helping advertisers, including bringing Gemini models into Performance Max. Our Cloud business continues to grow as we bring the best of Google AI to enterprise customers and organizations around the world. And Google One now has crossed 100 million paid subscribers, and in Q1, we introduced a new AI premium plan with Gemini Advanced.   Okay, those are the 6 points so now let me turn to quarterly highlights from Cloud and YouTube in a bit more detail. In Cloud, we have announced more than 1,000 new products and features over the past 8 months. At Google Cloud Next, more than 300 customers and partners spoke about their generative AI successes with Google Cloud, including global brands like Bayer, Cintas, Mercedes-Benz, Walmart and many more.   Our differentiation in Cloud begins with our AI hypercomputer, which provides efficient and cost-effective infrastructure to train and serve models. Today, more than 60% of funded gen AI start-ups and nearly 90% of gen AI unicorns are Google Cloud customers. And customers like PayPal and Kakao Brain are choosing our infrastructure. We offer an industry-leading portfolio of NVIDIA GPUs along with our TPUs. This includes TPU v5p, which is now generally available and NVIDIA's latest generation of Blackwell GPUs. We also announced Axion, our new Google design and Arm-based CPU. In benchmark testing, it has performed up to 50% better than comparable x86-based systems.   On top of our infrastructure, we offer more than 130 models, including our own models, open source models and third-party models. We made Gemini 1.5 Pro available to customers as well as Imagine 2.0 at Cloud Next. And we shared that more than 1 million developers are now using our generative AI across tools, including AI Studio and Vertex AI. We spoke about how customers like Bristol-Myers Squibb and Etsy can quickly and easily build agents and connect them to their existing systems. For example, Discover Financial has begun deploying gen AI-driven tools to its nearly 10,000 call center agents to achieve faster resolution times for customers. Customers can also now ground their gen AI with Google Search and their own data from their enterprise databases and applications.   In Workspace, we announced that organizations like Uber, Pepperdine University and PennyMac are using Gemini and Google Workspace, our AI-powered agent that's built right into Gmail, Docs sheets and more. We also announced Google Vids, a new application to create stories in short video format. And we introduced Gemini for Meetings and Messaging and Gemini Security for Workspace.   Customers are choosing Workspace because they have deep trust in our powerful security and privacy features.   Our Cloud business is now widely seen as the leader in cybersecurity. I saw this firsthand when I went to the Munich Security Conference in February. Cybersecurity analysts are using Gemini to help spot threats, summarize intelligence and take action against attacks, helping companies like American Family Insurance aggregate and analyze security data in seconds instead of days.   Turning next to YouTube, which continues to grow and lead in streaming. We announced that on average, viewers are watching over 1 billion hours of YouTube content on TVs daily. AI experiments like Dream Screen will give anyone the ability to make AI-generated backgrounds for YouTube Shorts. And on subscriptions, which are increasingly important for YouTube, we announced that in Q1, YouTube surpassed 100 million Music and Premium subscribers globally, including trialers. And YouTube TV now has more than 8 million paid subscribers.   Finally, in Other Bets, Waymo's fully autonomous service continues to grow ridership in San Francisco and Phoenix with high customer satisfaction, and we started offering paid rides in Los Angeles and testing rider-only trips in Austin.   Overall, it was a great quarter, and there's more to come. IO is in less than 3 weeks, followed by Brandcast and Google Marketing Live.   I want to thank our employees around the world who are at the heart of this progress and who continue to focus on building innovative products, helpful services and new opportunities for businesses and partners around the world. Thank you. Philipp?  [Philipp Schindler] Thanks, Sundar, and hi, everyone.   Google Services revenue of $70 billion were up 14% year-on-year. Search and other revenues grew 14% year-on-year led again by solid growth in the retail vertical with particular strength from APAC-based retailers, which began in the second quarter of 2023.   YouTube Ads revenues were up 21% year-on-year driven by growth in both direct response and brand. Network revenues declined 1% year-on-year. In subscriptions, platforms and devices, year-on-year revenues increased 18%, driven again by strong growth in YouTube subscriptions.   Let's now talk about a few highlights from the quarter from a product innovation and advertising performance perspective.   First, it bears repeating that AI innovation across our Ads ecosystem is core to every aspect of our product portfolio, from targeting, bidding, creative, measurement, and across campaign types. We've talked about whole solutions like Smart Bidding use AI to predict future ad conversions and their value in helping businesses stay agile and responsive to rapid shifts in demand and how products like broad match leverage LLMs to match ads to relevant searches and help advertisers respond to what millions of people are searching for. This is foundational.   As advances accelerate in our underlying AI models, our ability to help businesses find users at speed and scale and drive ROI just keeps getting better. We're especially excited about the doors gen AI is opening for creative capabilities, helping deliver on the premise of getting the right ad to the right user in the right moment.   Look at Performance Max. In February, we rolled Gemini into PMax. It's helping curate and generate text and image assets so businesses can meet PMax asset requirements instantly. This is available to all U.S. advertisers and starting to roll out internationally in English, and early results are encouraging. Advertisers using PMax asset generation are 63% more likely to publish a campaign with good or excellent ad strength. And those who improve their PMX ad strength to excellent see 6% more conversions on average.   We're also driving improved results for businesses opting into automatically created assets, which are supercharged with gen AI. Those adopting ACA see, on average, 5% more conversions at a similar cost per conversion in Search and Performance Max campaigns.   And then there's Dimension. Advertisers are loving its ability to engage new and existing customers and drive purchase consideration across our most immersive and visual touch points like YouTube, Shorts, Gmail and Discover.  [ Hollywood film and TV studio, Lionsgate, partnered with Horizon Media to test what campaign type will deliver the most ticketing page views for its The Hunger Games] Ballad of Songbirds and Snakes film. Over a 3-week test, demand gen was significantly more efficient versus social benchmarks with an 85% more efficient CPC and 96% more efficient cost per page view. Lionsgate has since rolled out demand gen for 2 new titles.   We're also bringing new creative features to demand gen. Earlier this month, we announced new generative image tools to help advertisers create high-quality assets in a few steps with a few simple prompts. This will be a win for up-leveling visual storytelling and testing creative concepts more efficiently.   And then there's obviously Search generative experience, which Sundar talked about. I laid out that innovation and the user experience on Search has historically opened up new opportunities for advertisers. We saw this when we successfully navigated from desktop to mobile. We're continuing to experiment with new ad formats, including search and shopping ads alongside search results in SGE. And we shared in March how folks are finding ads either above or below the SGE results helpful. We're excited to have a solid baseline to keep innovating on and confident in the role SGE, including Ads, will play in delighting users and expanding opportunities to meet user needs.   Which brings me to Search and our strong performance in the first quarter. In Q1, retail was again the top contributor. Our focus remains on driving profitability and growth for retailers, helping them optimize digital performance for both online and off-line as well as innovate across our shopping and merchant experiences.   Highlights include continued upsides for retailers, leading into agile budget and bidding strategies across Search, PMax, or both; take-home goods retailer IKEA, who leaned into Google's store sales measurement to understand its total omnichannel revenue opportunity across search. By measuring 2.3x more revenue and using value-based bidding solutions to bid to its omnichannel customers, IKEA drove a significant increase in omni revenue in Q1 and is now scaling this strategy globally. We also expanded local inventory ads into 23 countries, helping drive shopper confidence and off-line sales. Retailers can convert intent into action by showcasing in-store availability, pricing, pickup options and more all in one ad format.   Moving to YouTube. Last quarter, I went deep into our strategy. It all starts with creation, which drives viewership, which leads to monetization. A few updates to build on Sundar's remarks.   First, creation, which is all about giving creators the tools to create amazing content, grow their audiences and build their businesses. In 2023, more people created content on YouTube than ever before, and the number of channels uploading Shorts year-on-year grew 50%. We also hit a new milestone with 3 million-plus channels in our YouTube Partner Program. We recently shared that YPP has paid out more than any other creator monetization platform, including over $70 billion to creators, artists, and media companies over the last 3 years.   From a viewer's perspective, watch time across YouTube continues to grow, with strength in both Shorts and CTV. According to Nielsen, YouTube has been the leader in U.S. streaming watch time for the last 12-plus months. In the first quarter, Livingroom. benefited from a combination of strong watch time growth, innovation in the user and advertiser experience, and a shift in brand advertising budgets from linear TV to YouTube. Viewers are watching YouTube because they expect to access everything in one place across screens and formats, their favorite creators, live sports, breaking use, educational content, movies, music and more. And advertisers continue to lean in to find audiences they can't find elsewhere.   Which brings me to monetization. We're pleased with our Q1 performance across both our ad-supported and subscription offerings. Sundar covered subscription growth. On the Ads front, direct and brand were both strong this quarter. Shorts monetization continued to improve, with Shorts ads now supported on mobile, tablet, Livingroom. and desktop, and available to both performance and brand advertisers.   In the U.S., the monetization rate of Shorts relative to in-stream viewing has more than doubled in the past 12 months, including a 10-point sequential improvement in the first quarter alone. Just last week, we introduced new ways for brands to get the most out of their Shorts ads with new lineups on YouTube Select, including sports, beauty, fashion and lifestyle, and entertainment. For YouTube advertisers, increasing brand lift is one of the core goals. In Q1, we saw strong traction from the introduction of a pause ads pilot on connected TVs, a new non-interruptive ad format that appears when users pause their organic content. Initial results show that pause ads are driving strong brand lift results and are commanding premium pricing from advertisers.   Before I wrap, two quick highlights on how we're helping our partners transform and accelerate impact with the best across Google.   Number one, to help McDonald's build the restaurant of the future, we're deepening our partnership across cloud and ads. Part of this includes them connecting Google Cloud's latest hardware and data technologies across restaurants globally and starting to apply Gen AI to enhance its customer and employee experiences.   Number two, WPP. At Google Cloud Next, we announced a new collaboration that will redefine marketing through the integration of our Gemini models with WPP Open, WPP's AI-powered marketing operating system, already used by more than 35,000 of its people and adopted by key clients, including The Coca-Cola Company, L'Oreal and Nestle. We're just getting started here and excited about the innovation this partnership will unlock.   With that, a huge thank you to our customers and partners, many of whom we're excited to see at Google Marketing Live and Brandcast in just a few weeks. And a huge thank you, as always, to our incredible teams for their agility and hard work this quarter.   Ruth, you're up.  [Ruth Porat] Thank you, Philipp. We are very pleased with our financial results for the first quarter driven, in particular, by strength in Search and Cloud as well as the ongoing efforts to durably reengineer our cost base. My comments will be on year-over-year comparisons for the first quarter unless I state otherwise. I will start with results at the Alphabet level, followed by segment results and conclude with our outlook.   For the first quarter, our consolidated revenues were $80.5 billion, up 15% or up 16% in constant currency. Search remained the largest contributor to revenue growth.   In terms of total expenses, the year-on-year comparisons reflect the impact of the restructuring charges we took in the first quarter of 2023 of $2.6 billion as well as the $716 million in employee severance and related charges in the first quarter of 2024. As you can see in our earnings release, these charges were allocated across the expense lines in other cost of revenues and OpEx based on associated head count.   To help with year-on-year comparisons, we included a table in our earnings release to adjust other cost of revenues, operating expenses, operating income, and operating margin to exclude the impact of severance and related office space charges in the first quarter of 2023 versus 2024.   In terms of expenses, total cost of revenues was $33.7 billion, up 10%. Other cost of revenues was $20.8 billion, up 10% on a reported basis, with the increase driven primarily by content acquisition costs associated with YouTube given the very strong revenue growth in both subscription offerings and ad-supported content. On an adjusted basis, other cost of revenues were up 13% year-on-year.   Operating expenses were $21.4 billion, down 2% on a reported basis, primarily reflecting expense decreases in sales and marketing and G&A, offset by an increase in R&D. The largest single factor in the year-on-year decline in G&A expenses was lower charges related to legal matters.   On an adjusted basis, operating expenses were up 5%, reflecting, first, in R&D, an increase in compensation expense, primarily for Google DeepMind and Cloud; and second, in sales and marketing, a slight increase year-on-year, reflecting increases in compensation expense primarily for Cloud sales.   Operating income was $25.5 billion, up 46% on a reported basis, and our operating margin was 32%. On an adjusted basis, operating income was up 31%, and our operating margin was 33%. Net income was $23.7 billion and EPS was $1.89. We delivered free cash flow of $16.8 billion in the first quarter and $69.1 billion for the trailing 12 months. We ended the quarter with $108 billion in cash and marketable securities.   Turning to segment results. Within Google Services, revenues were $70.4 billion, up 14%. Google Search and other advertising revenues of $46.2 billion in the quarter were up 14% led again by growth in retail. YouTube advertising revenues of $8.1 billion were up 21% driven by both direct response and brand advertising. Network advertising revenues of $7.4 billion were down 1%. Subscriptions, platforms and devices revenues were $8.7 billion, up 18%, primarily reflecting growth in YouTube subscription revenues.   TAC was $12.9 billion, up 10%. Google Services operating income was $27.9 billion, up 28%. And the operating margin was 40%.   Turning to the Google Cloud segment. Revenues were $9.6 billion for the quarter, up 28%, reflecting significant growth in GCP with an increasing contribution from AI and strong Google Workspace growth, primarily driven by increases in average revenue per seat. Google Cloud delivered operating income of $900 million and an operating margin of 9%.   As to our Other Bets, for the first quarter, revenues were $495 million, benefiting from a milestone payment in one of the Other Bets. The operating loss was $1 billion.   Turning to our outlook for the business. With respect to Google Services, first, within Advertising, we are very pleased with the momentum of our Ads businesses. Search had broad-based strength across verticals. In YouTube, we had acceleration in revenue growth driven by brand and direct response.  [ Looking ahead, two points to call out] first, results in our advertising business in Q1 continued to reflect strength in spend from APAC-based retailers, a trend that began in the second quarter of 2023 and continued through Q1, which means we will begin lapping that impact in the second quarter; second, the YouTube acceleration in revenue growth in Q1 reflects, in part, lapping the negative year-on-year growth we experienced in the first quarter of 2023.   Turning to subscriptions, platforms, and devices. We continue to deliver significant growth in our subscriptions business, which drives the majority of revenue growth in this line. The sequential quarterly decline in year-on-year revenue growth for the line in Q1 versus Q4 reflects, in part, the fact that we had only 1 week of Sunday Ticket subscription revenue in Q1 versus 14 weeks in Q4. Looking forward, we will anniversary last year's price increase in YouTube TV starting in May.   With regard to platforms, we are pleased with the performance in Play driven by an increase in buyers.   With respect to Google Cloud, performance in Q1 reflects strong demand for our GCP infrastructure and solutions as well as the contribution from our Workspace productivity tools. The growth we are seeing across Cloud is underpinned by the benefit AI provides for our customers. We continue to invest aggressively while remaining focused on profitable growth.  [ As we look ahead, two points that will affect sequential year-on-year revenue growth comparisons across Alphabet] first, Q1 results reflect the benefit of leap year, which contributed slightly more than 1 point to our revenue growth rate at the consolidated level in the first quarter; second, at current spot rates, we expect a larger headwind from foreign exchange in Q2 versus Q1.   Turning to margins. Our efforts to durably reengineer our cost base are reflected in a 400 basis point expansion of our Alphabet operating margin year-on-year, excluding the impact of restructuring and severance charges in both periods. You can also see the impact in the quarter-on-quarter decline in head count in Q1, which reflects both actions we have taken over the past few months and a much slower pace of hiring. As we have discussed previously, we are continuing to invest in top engineering and technical talent, particularly in Cloud, Google DeepMind and technical infrastructure.   Looking ahead, we remain focused on our efforts to moderate the pace of expense growth in order to create capacity for the increases in depreciation and expenses associated with the higher levels of investment in our technical infrastructure. We believe these efforts will enable us to deliver full year 2024 Alphabet operating margin expansion relative to 2023.   With respect to CapEx, our reported CapEx in the first quarter was $12 billion, once again driven overwhelmingly by investment in our technical infrastructure, with the largest component for servers followed by data centers. The significant year-on-year growth in CapEx in recent quarters reflects our confidence in the opportunities offered by AI across our business. Looking ahead, we expect quarterly CapEx throughout the year to be roughly at or above the Q1 level, keeping in mind that the timing of cash payments can cause variability in quarterly reported CapEx. With regard to Other Bets, we similarly have work streams underway to enhance overall returns.   Finally, as I trust you saw in the press release, we are very pleased to be adding a quarterly dividend of $0.20 per share to our capital return program as well as a new $70 billion authorization in share repurchases. The core of our capital allocation framework remains the same, beginning with investing aggressively in our business as you have heard us talk about today. Given the extraordinary opportunities ahead, we view the introduction of the dividend as further strengthening our overall capital return program.   Thank you. Sundar, Philipp, and I will now take your questions.  [Operator] [Operator Instructions] Our first question comes from Brian Nowak with Morgan Stanley.  [Brian Nowak] I have two. The first one, I wanted to ask about overall search behavior. Philipp, I know you talked in the past about how overall query trends continue to grow. Can I ask you to drill a little bit more into monetizable and commercial query trends? Has there been any changes in sort of your commercial query trends growth. There's just been all these new entrants moving around in e-commerce. That is my first one.  Then the second one for Ruth, when you talked about sort of more efforts to moderate expense growth from here, can you just sort of give us some examples of areas where you still see the potential for more optimization or work streams in place to continue to durably reengineer the OpEx base as we go throughout 2024.  [Sundar Pichai] Thanks, Brian. To your first question, look, I think broadly, we've always found that over many years, when things work well on the organic side, monetization follows. So typically, the trends we see carry over well. Overall, I think with generative AI in Search, with our AI overviews, I think we will expand the type of queries we can serve our users. We can answer more complex questions as well as, in general, that all seems to carry over across query categories. Obviously, it's still early, and we are going to be measured and put user experience at the front, but we are positive about what this transition means.  [Ruth Porat] And on the second question in terms of the various work streams, as both Sundar and I said, we remain very focused on ongoing efforts to slow the pace of expense growth, what we've been calling durably reengineering our cost base. And I made this point in opening comments, but we are very cognizant of the increasing headwind we have from higher depreciation and expenses associated with the higher CapEx, and so these efforts are ongoing. And they're very much the same that we've talked with you about previously. It starts with product and process prioritization, all of the work around organizational efficiency and structure. These are ongoing.   And so as an example, the work that Sundar talked about, combining devices and services with our platforms and ecosystems, product area is a really good example because unifying the teams not only helps us deliver higher-quality products and experiences, but we think it enables us to move with greater velocity and efficiency.  And then the other work streams we've talked to you about in the past, like all of the work around technical infrastructure, which Sundar alluded to; streamlining operations within the company through the use of AI; what we're doing with procurement with our suppliers and vendors, which he also referenced; the work you've seen on real estate optimization, these are all ongoing work streams, which is why we have them under the umbrella, durably reengineering our cost base, and they are ongoing.  [Operator] Our next question comes from Doug Anmuth with JPMorgan.  [Douglas Anmuth] Sundar, you talked about bringing more generative AI features into the main Search page. Can you just talk about what kind of queries or scenarios do you think that that's working best for so far? And just how we should think about the cadence of continuing to adopt more of those features within core search.   And then Ruth, on CapEx spending, the $12 billion in 1Q, can we assume that run rating that and above is reasonable for this year? And I know it's very early, but should we generally expect higher CapEx next year as well?  [Sundar Pichai] Thanks, Doug. On SGE in Search, we are seeing early confirmation of our thesis that this will expand the universe of queries where we are able to really provide people with a mix of actual answers linked to sources across the Web and bring a variety of perspectives, all in an innovative way. And we've been rolling out AI overviews in the U.S. and the U.K., trying to mainly tackle queries which are more complex, where we think SGE will clearly improve the experience. We've already served billions of queries and it seems to cut across categories, but we are still continuing our testing. And we are metrics-driven in these areas. But I am optimistic that it clearly improves the user experience. Users are telling us that. And we are seeing it in our metrics, and we'll continue evolving it through the course of this year.  [Ruth Porat] And then in terms of CapEx, as I said in opening comments, we do expect the quarterly CapEx throughout the year to be roughly at or above the $12 billion cash CapEx we had here in Q1. As I said, you can always have variability in the reported quarterly CapEx just due to the timing of cash payments, but roughly at or above this level. And it really goes to Sundar's opening comment that we're very committed to making the investments required to keep us at the leading edge in technical infrastructure to support the growth in Cloud, all the innovation in Search that he and Philipp has spoken about and our lead with Gemini.  I will note that nearly all of the CapEx was in our technical infrastructure. We expect that our investment in office facilities will be about less than 10% of the total CapEx in 2024, roughly flat with our CapEx in 2023, but is still there. And then with respect to 2025, as you said, it's premature to comment so nothing to add on that.  [Operator] Our next question comes from Eric Sheridan with Goldman Sachs.  [Eric Sheridan] Maybe just one question of a big picture nature for Sundar. Sundar, if we come back to your earlier comments at the beginning of the call and framing up longer-term initiatives and longer-term narratives, I wanted to know if you could talk a little bit about both the opportunities and the challenges of operating at scale in a time like this where there's a lot of technology innovation going on and how you see the elements of trying to strike a balance towards moving the organization forward while still continuing to both invest for growth as well as balance margins.  [Sundar Pichai] Thanks, Eric. Great question. Obviously, I think the AI transition, I think it's a once-in-a-generation kind of an opportunity. We've definitely been gearing up for this for a long time. You can imagine we started building TPUs in 2016, so we've definitely been gearing up for a long time. The real opportunities we see is the scale of research and innovation, which we have built up and are going to continue to deliver. I think for the first time, we can work on AI in a horizontal way and it impacts the entire breadth of the company, be it Search, be it YouTube, be it Cloud, be it Waymo and so on. And we see a rapid pace of innovation in that underlying. So it's a very leveraged way to do it, and I see that as a real opportunity ahead.   In terms of the challenges, I think it's been a mindset shift, which we've been driving across the company to make sure that we are embracing this opportunity but being very efficient in how we are approaching it, making sure we are redirecting our people to the highest priorities across the company, building on our 20 years of experience in driving machine efficiencies year-on-year so that we can put our dollars to work as efficiently as possible. So making sure balancing all of that moving forward in a very bold and responsible way at the same time. Those are the important things to get right from my perspective.  [Operator] Our next question comes from Stephen Ju with UBS.  [Stephen Ju] Philipp, I think it's approaching the 2-year anniversary for the launch of Ads on YouTube Shorts. And you've given us an update on monetization pickup sequentially. But with that in mind, I think YouTube has launched an array of ad products and automation tools to help advertisers transfer what they're doing to the vertical screen. So how is this translating into buy-in among your advertiser clients?  And secondly, based on what you've seen over the last 2 years, are there any structural reasons that you can cite as to why the monetization cannot match what is already the case on the horizontal screen?  [Philipp Schindler] Yes. Look, this is a great question, first of all. I mean, let's start with the fact that YouTube performance was very strong in this quarter. And on Shorts specifically in the U.S., I mentioned how the monetization rate of Shorts relative to in-stream viewing has more than doubled in the last 12 months. I think that's what you were referring to. And yes, we're obviously very happy with this development.  The way to think about it is advertisers really only spend with us when they see a positive ROI. So you can assume that this wouldn't be happening unless it were to work for advertisers in the short term and also in the long term. That's an important part, I think.   Overall, Shorts is a long-term bet for the business. It has really helped us respond to both creator and viewer demand for short-form video. We talked about the strong growth, averaging 70 billion daily views. I mentioned the number of channels uploading has increased 50% year-over-year, so again, very happy with us development. And to your question, structural reasons, whether we can't get to a match here, I have a hard time seeing those at the moment over time.  [Operator] Our next question comes from Justin Post with Bank of America.  [Justin Post] I'm going to ask another one on CapEx. It seems to be your biggest investment area. Just first, you saw the big uptick the last 2 quarters, but you've been investing in AI for years. Is the uptick because supply is getting easier to get? Or do you see more opportunities with the available supply to really fuel AI? So has the GPUs and everything gotten better that you feel more, investing more? And then thinking about the returns, both for Advertising and Cloud on the CapEx, do you feel like this is a higher cost of doing business? Or do you think this is an opportunity to even get better returns on your capital spend than you've had in the past?  [Ruth Porat] So the increase in CapEx, as Sundar said and I said, really reflects the opportunity we continue to see across the company. It starts with all that we're doing in support of the Gemini foundational model but then also, clearly, the work across Cloud, on behalf of Cloud customers, and the growth that we're seeing with GCP and the infrastructure work there, and then, of course, as both Sundar and Philipp talked about the application across Search, YouTube and, more broadly, the services that we're able to offer. So it's the growing application and our focus on ensuring that we have the compute capacity to deliver in support of the services and opportunities we see across Alphabet.   And it really goes to the second part of your question, which is that as we're investing in CapEx and applying it across our various businesses, it opens up more services and products, which bring revenue opportunities. And we're very focused on the monetization opportunity. It does underlie everything that we're doing in Google Services and Google Cloud. And as Sundar noted, we're, at the same time, very focused on the efficiency of all elements of delivering that compute capacity from hardware, software and beyond.  [Operator] Our next question comes from Mark Mahaney with Evercore.  [Jian Li] This is Jian Li for Mark Mahaney. A couple of questions. One, just maybe an expansion on the Search, query questions on before, more like Search volume, and maybe in the context of the off-Google environment like AI chat bot, for example, we've seen kind of Meta AI directing to Google Search results. Do you think there's actually a scenario where like AI system can create a step function change in Search volume or use cases of Google? If you can give us more color on what are you seeing right now or what are you expecting to see in that area.  And then the second question on just the comment of YouTube and Cloud exiting at $100 billion run rate. What is informing this outlook or visibility for you? If you can talk about, is it driven by any sort of Cloud demand inflection or step change in the gen AI workload demand, if you can flesh it out a little bit?  [Sundar Pichai] On your first question, look, I said this before but to be clear, we view this moment as a positive moment for Search. And I think it allows us to evolve our product in a profound way. And Search is a unique experience. People come, be it if you want answers, if you want to explore more, if you want to get perspectives from across the web, and to be able to do it across the breadth and depth of everything they are looking for and the innovation you would need to keep that up, I think it's what we've been building on for a long time. And so I feel we are extraordinarily well set up, particularly given the innovation path we are on. And overall, I view this moment as a positive moment. So that's how I would say it.   On the second part, Ruth?  [Ruth Porat] Sorry, what was it?  [Sundar Pichai] YouTube and Cloud.  [Jian Li] Yes, in terms of your comment about $100 billion exit rate for YouTube and Cloud, what's driving this visibility for you and any kind of inflection you're seeing in the Cloud demand?  [Ruth Porat] I would just say from Sundar's opening comments, it's just the ongoing momentum that we've seen in the business that we've been talking about, the ongoing growth and strong performance. And so what we were really getting at in that comment, what Sundar was getting at, is that we've continued to build strong businesses over time, and that just helps dimension it. We had similar comments last quarter when you talk about our subscription business. We're really proud of all the work that the teams are doing across the company, building new, strong opportunities, delivering for our users, for customers, for advertisers in profound ways. And so it was just helping to dimension what we have built over the years.  [Operator] Our next question comes from Ken Gawrelski with Wells Fargo.  [Kenneth Gawrelski] Two, if I may. First on GCP, you had nice acceleration in the quarter. Could you talk a little bit about the opportunities and constraints upon GCP's ability to continue to address that large addressable market and accelerate growth? Is it more sales-oriented? Is it more product sales solutions or both? And do you plan to address most of these organically? Or could a partner approach work for you?  And then the second one, just more detail on YouTube and sports rights. Could you reiterate your view on further live sports rights? There's some larger, mostly in the U.S., league rights coming up soon and will be more over the next several years. Could you just talk about your philosophy there beyond NFL Sunday Ticket?  [Sundar Pichai] Look, on the Cloud side, obviously, it's definitely a point of inflection overall. I think the AI transformation is making everyone think about their whole stack, and we are engaged in a number of conversations. I think paid AI infrastructure, people are really looking to Vertex AI, given our depth and breadth of model choice, or using Workspace to transform productivity in your workplace, et cetera. So I think the opportunities there are all related to that, both all the work we've built up and AI being a point of inflection in terms of driving conversations. I think you'll see us do it both organically and with a strong partner program as well. So we'll do it with a combination.   And the challenges here, always, there are switching costs to Cloud and the challenges we see is how do we make it easier for people. There's a lot of interest, but there's definitely barriers in terms of people switching. And so that's an area where we are constantly investing to make it easier for our customers.  [Philipp Schindler] And with regard to your sports rights question, look, I mean, we've had long-standing and significant partnerships with the most popular sports league here in the U.S., around the globe, federations teams, athletes, broadcasters. And obviously, these partnerships, in combination with our very vast audience of sports fans, drives investment in subscription experiences across many offerings: NFL Sunday Ticket, YouTube TV, YouTube Primetime Channels and so on. But there's nothing that we have to announce at the moment. We're obviously always looking at where we can create more value for our users, for our advertisers, for creators, but nothing specific to talk about at this moment.  [Operator] Our next question comes from Ross Sandler with Barclays.  [Ross Sandler] Sundar, I had a question about smartphone-based AI searches. So you guys are powering all these new AI interactions and searches on Pixel and on Samsung devices. And I think there's speculation that Gemini might be used on iOS in a future state. So the question is, as users start searching on smartphones and those searches are basically rendered on the model, on the phone, without accessing the web, how do you guys anticipate monetizing some of these smartphone-based behaviors that are kind of run on the edge? Any thoughts on that?  [Sundar Pichai] Look, I think if you look at what users are looking for, people are looking for information and an ability to connect with things outside. So I think there will be a set of use cases which you will be able to do on device. But for a lot of what people are looking to do, I think you will need the richness of the cloud, the Web and you have to deliver it to users. So again, to my earlier comments, I think through all these moments, you saw what we have done with Samsung with Circle to Search. I think it gives a new way for people to access Search conveniently wherever they are. And so we view this as a positive way to bring our services to users in a more seamless manner. So I think it's positive from that perspective.   In terms of on-device versus cloud, there will be needs which can be done on-device and we should to help it from a privacy standpoint. But there are many, many things for which people will need to reach out to the cloud. And so I don't see that as being a big driver in the on-cloud versus off-cloud in any way.  [Operator] And our last question comes from Colin Sebastian with Baird.  [Colin Sebastian] I guess first, a follow-up on some of the questions on SGE in the core Search. I guess I'm wondering, along with some of those changes in behavior, is there a way to quantify that overall engagement shift, whether that's an increase in time spent or the level of increase in queries for both sort of traditional search as well as more generative answers.  And then secondly, on the hardware road map, I assume later this year, we'll hear more about some of the products. But any areas of particular focus or that you would point out that we should keep in mind in terms of hardware launches in the back half?  [Sundar Pichai] On the first question on Search, not much more to add to what I said, but what we have seen. And we've been in live experiments just for a few weeks in U.S. and U.K. on a slice of our queries, and all indications are positive that it improves user satisfaction. We see an increase in engagement, but I see this as something which will play out over time.  But if you were to step back at this moment, there were a lot of questions last year, and we always felt confident and comfortable that we would be able to improve the user experience. People question whether these things would be costly to serve, and we are very, very confident we can manage the cost of how to serve these queries. People worried about latency. When I look at the progress we have made in latency and efficiency, we feel comfortable. There are questions about monetization. And based on our testing so far, I'm comfortable and confident that we'll be able to manage the monetization transition here well as well. It will play out over time, but I feel we are well positioned. And more importantly, when I look at the innovation that's ahead and the way the teams are working hard on it, I am very excited about the future ahead.  [Operator] And that concludes our question-and-answer session for today. I'd like to turn the conference back over to Jim Friedland for any further remarks.  [James Friedland] Thanks, everyone, for joining us today. We look forward to speaking with you again on our second quarter 2024 call. Thank you, and have a good evening.  [Operator] Thank you, everyone. This concludes today's conference call. Thank you for participating. You may now disconnect.\n"
          ]
        }
      ],
      "source": [
        "# Retrieve an example transcript from the dataframe and print\n",
        "transcript = transcripts_df.iloc[0][\"Transcript\"]\n",
        "print(transcript)"
      ]
    },
    {
      "cell_type": "code",
      "execution_count": 32,
      "metadata": {
        "colab": {
          "base_uri": "https://localhost:8080/"
        },
        "id": "X4t3luH6GM8B",
        "outputId": "8c5b2284-e781-4173-b67d-38063d6417c2"
      },
      "outputs": [
        {
          "output_type": "stream",
          "name": "stdout",
          "text": [
            "Vector database already exists. Skipping embedding storage.\n"
          ]
        }
      ],
      "source": [
        "# Store embeddings with metadata\n",
        "store_embeddings(transcripts_df)\n"
      ]
    },
    {
      "cell_type": "code",
      "execution_count": 33,
      "metadata": {
        "colab": {
          "base_uri": "https://localhost:8080/"
        },
        "id": "9R1_z1WPIThj",
        "outputId": "78e5a379-e61b-419a-8479-7872a432d222"
      },
      "outputs": [
        {
          "output_type": "stream",
          "name": "stdout",
          "text": [
            "Enter your question: Who is on the call?\n",
            "Enter company ticker: GOOGL\n",
            "Enter year: 2024\n",
            "Enter quarter: 3\n",
            "\n",
            "\n",
            "Answer: The individuals present on the call are Jim Friedland, Senior Director of Investor Relations; Sundar Pichai; Philipp Schindler; Anat Ashkenazi; Ross Sandler; Justin Post; Stephen Ju; and the unnamed Operator. \n",
            "\n",
            "Metadata: {'date': '2024-10-29', 'industry': 'AI-focused Tech', 'quarter': 3, 'ticker': 'GOOGL', 'year': 2024} \n",
            "\n",
            "Document Chunks: [Operator] Welcome, everyone. Thank you for standing by for the Alphabet Third Quarter 2024 Earnings Conference Call. At this time, all participants are in a listen-only mode. After the speaker presentation, there will be a question-and-answer session. [Operator Instructions] I would now like to hand the conference over to your speaker today, Jim Friedland, Senior Director of Investor Relations. Please go ahead. [Jim Friedland] Thank you. Good afternoon, everyone, and welcome to Alphabet's third quarter 2024 earnings conference call. With us today are Sundar Pichai, Philipp Schindler and Anat Ashkenazi. Now I'll quickly cover the Safe Harbor. Some of the statements that we make today regarding our business, operations and financial performance may be considered forward-looking. Such statements are based on current expectations and assumptions that are subject to a number of risks and uncertainties. Actual results could differ materially. Please refer to our Forms 10-K and 10-Q, including the risk factors. We undertake no obligation to update any forward-looking statement. During this call, we will present both GAAP and non-GAAP financial measures. A reconciliation of non-GAAP to GAAP measures is included in today's earnings press release, which is distributed and available to the public through our Investor Relations website located at abc.xyz/investor. Our comments will be on year-over-year comparisons unless we state otherwise. And now I'll turn the call over to Sundar. [Sundar Pichai] Thank you, Jim, and hello, everyone. Q3 was another great quarter. The momentum across the company is extraordinary, as you've seen in recent product launches, and as you will hear on the call today. Our commitment to innovation as well as a long-term focus and investment in AI are paying off and driving success for the company and for our customers. We are uniquely positioned to lead in the era of AI because of our differentiated full stack approach to AI innovation, and we are now seeing this operate at scale. It has three components. First, a robust AI infrastructure that includes data centers, chips and a global fiber network. Second, world-class research teams who are advancing our work with deep technical AI research and who are also building the models that power our efforts. And third, a broad global reach through products and platforms that touch billions of people and customers around the world, creating a virtuous cycle. Let me quickly touch on each of these. We continue to invest in state-of-the-art infrastructure to support our AI efforts from the U.S. to Thailand to Uruguay. We are also making bold clean energy investments, including the world's first corporate agreement to purchase nuclear energy from multiple small modular reactors, which will enable up to 500 megawatts of new 24/7 carbon-free power. We are also doing important work inside our data centers to drive efficiencies while making significant hardware and model improvements. For example,\n",
            "\n",
            "\n",
            "the Google versus DOJ search trial is going, there's a decent likelihood that the Apple ISA contract and some of the Android pre-install contracts are going to be voided out at some point in the future. So I guess the question is, what plans do we have in place to recapture some of the usage that might be going away in those search access points? How can we gain share on iOS queries if the Safari toolbar access point were to change? Thank you very much. [Sundar Pichai] Thanks, Ross. Look, I think, you know, obviously, we are serving Gemini across a lot of touch points, including it's now over 1 billion people are using it in search accessing. We are getting it across our products. The Gemini app itself has very strong momentum on user growth. Our API volume, I commented on the Gemini APIs having gone up 14x in the past 6 months. So we are seeing growth across the board. And the Gemini integration into Google Assistant is going super well on Android. The user feedback is positive. So we are continuing to roll that out more. So I think we'll - you will see us we are investing in the next generation of models. And as part of that, we are investing in scaling up the usage of the - both directly to the models as both on the consumer and the developer side. So I think I'm pleased with the momentum there. On the second - on the legal trials, obviously, I don't want to - it's not appropriate for me to speculate given it's in the middle of ongoing litigation. But what I would say is stepping back, look, we've always and even as the court acknowledged, clearly, we have reached a position of success because we have deeply innovated, and we are continuing to do so. People have chosen us because they view it as the best product, be it consumers or partners. And we have a long track record of working hard to make sure our products are as easily available to users as possible across all platforms. So all that approach and all the learnings over the years, I think, will all be - will give us a strong foundation. First of all, we plan to vigorously defend these cases. And some of the early proposals from the DOJ, et cetera, have been far reaching. And we plan to - I think they could have unintended consequences, particularly to the dynamic tech sector and the American leadership there. And so we plan to be - we plan to engage very vigorously there. Thanks. [Ross Sandler] Thank you. [Operator] Your next question comes from Justin Post with BAML. Your line is now open. [Justin Post] Great. Thank you. I wanted to ask a little bit more about AI Overviews, maybe two parts. You mentioned you're seeing increasing queries or activity. Could you help us understand that for the billion users who have had access to the product, what you're seeing there? And then on the monetization side, is there a chance that AI Overviews would help monetize some of the information queries that maybe you weren't making much monetization from with old formats? Thank you. [Sundar Pichai]\n",
            "\n",
            "\n",
            "learnings. So I would say, if anything, I think over time, I think organizations are beginning to understand more. They are leaning in. Our models are getting better. We are building more comprehensive solutions on top of it. So I think we are well set up for 2025, and I think there will be continued momentum in this area. [Philipp Schindler] And on the PMax side, look, we continue to see success with PMax. And we see those success stories really from large advertisers, from agencies, from SMBs across marketing objectives, across different verticals. It's very cost effective, and it really finds customers wherever they are across all the different Google channels. And with the introduction of Gemini, we added a lot of new features to PMax. For example, to deliver more powerful performance, help advertisers scale, build high-quality creative assets and so on. But going directly to your question on the funnel, also keep in mind, we have a great product with Demand Gen that is all about inspiring consumers beyond the initial awareness and to take action. And we think Demand Gen is actually a very powerful tool to win in today's marketplace with marketers, and we can't wait to see actually what more value it will drive. [Stephen Ju] Thank you. [Operator] Thank you. And that concludes our question-and-answer session for today. I'd like to turn the conference back over to Jim Friedland for any further remarks. [Jim Friedland] Thanks, everyone, for joining us today. We look forward to speaking with you again on our fourth quarter 2024 call. Thank you, and have a good evening. [Operator] Thank you, everyone. This concludes today's conference call. Thank you for participating. You may now disconnect.\n"
          ]
        }
      ],
      "source": [
        "# Manually ask a query\n",
        "# Ask user for search criteria\n",
        "user_query = input(\"Enter your question: \")\n",
        "user_ticker = input(\"Enter company ticker: \")\n",
        "user_year = int(input(\"Enter year: \"))\n",
        "user_quarter = int(input(\"Enter quarter: \"))\n",
        "print(\"\\n\")\n",
        "\n",
        "# print out the answer and metadata and document chunks\n",
        "answer = query_rag(user_query, user_ticker, user_year, user_quarter)\n",
        "print(\"Answer:\", answer[\"answer\"], \"\\n\")\n",
        "print(\"Metadata:\", answer[\"metadata\"], \"\\n\")\n",
        "print(\"Document Chunks:\", '\\n\\n\\n'.join(answer[\"document_chunks\"]))\n"
      ]
    },
    {
      "cell_type": "code",
      "execution_count": 34,
      "metadata": {
        "id": "18PqsnnXbZQY"
      },
      "outputs": [],
      "source": [
        "# Function to take user selection of industry, ticker, year and quarter and user question and retrieve answer via RAG\n",
        "def query_and_display(user_industry, user_ticker, user_year, user_quarter, user_query):\n",
        "    answer = query_rag(user_query, user_ticker, int(user_year), int(user_quarter))\n",
        "\n",
        "    # Using the user question, answer and document chunks, evaluate the answer for faithfulness and relevance\n",
        "    quality_score = evaluate_response(answer[\"answer\"], user_query, '\\n\\n\\n'.join(answer[\"document_chunks\"]))\n",
        "\n",
        "    #return the values to be displayed in the UI\n",
        "    return answer[\"answer\"], '\\n\\n\\n'.join(answer[\"document_chunks\"]), answer[\"metadata\"][\"date\"], quality_score\n"
      ]
    },
    {
      "cell_type": "code",
      "execution_count": 35,
      "metadata": {
        "id": "dPTBac0VevQT"
      },
      "outputs": [],
      "source": [
        "# import gradio for UI\n",
        "import gradio as gr"
      ]
    },
    {
      "cell_type": "code",
      "execution_count": 36,
      "metadata": {
        "id": "m1HnvPBzIUV1"
      },
      "outputs": [],
      "source": [
        "# Function to update the list of tickers whenever a different industry is selected by the user\n",
        "def update_ticker_dropdown(selected_industry):\n",
        "    \"\"\"Updates the ticker dropdown choices based on the selected industry.\"\"\"\n",
        "    filtered_df = transcripts_df[transcripts_df['Industry'] == selected_industry]\n",
        "    ticker_choices = sorted(filtered_df['Ticker'].unique().tolist())\n",
        "\n",
        "    # Return the new choices for the ticker dropdown\n",
        "    return gr.update(choices=ticker_choices)"
      ]
    },
    {
      "cell_type": "code",
      "source": [
        "# Frequently Asked Earnings Call Questions\n",
        "faq_questions = [\n",
        "    \"What was the company's total revenue?\",\n",
        "    \"What was the company's net income?\",\n",
        "    \"What was the gross profit for the quarter?\",\n",
        "    \"What were the total expenses reported?\",\n",
        "    \"Did the company mention any major investments?\",\n",
        "    \"What was the reported earnings per share (EPS)?\",\n",
        "    \"Did the company discuss any cost reductions?\",\n",
        "    \"What were the main reasons for revenue increase or decrease?\",\n",
        "    \"Did the company announce any new products or services?\",\n",
        "    \"Were any specific market trends mentioned in the call?\",\n",
        "    \"Did the company provide any financial projections for the next quarter?\",\n",
        "    \"Was there any mention of changes in leadership or management?\",\n",
        "    \"Did the company talk about customer growth or decline?\",\n",
        "    \"Were any major business partnerships or deals discussed?\",\n",
        "    \"Did the company mention any changes in pricing or costs?\",\n",
        "]"
      ],
      "metadata": {
        "id": "H8tx55ejOoEC"
      },
      "execution_count": 37,
      "outputs": []
    },
    {
      "cell_type": "code",
      "source": [
        "# Enhanced Gradio UI\n",
        "with gr.Blocks(css=\"\"\"\n",
        "    .gradio-container {\n",
        "        max-width: 1000px;\n",
        "        margin: auto;\n",
        "        padding: 30px;\n",
        "        border-radius: 8px;\n",
        "        background: #ffffff;\n",
        "        box-shadow: 0px 4px 10px rgba(0, 0, 0, 0.1);\n",
        "    }\n",
        "    .gr-textbox textarea, .gr-dropdown select {\n",
        "        width: 100%;\n",
        "        height: 180px;  /* Further increased height for answers */\n",
        "        background: #f8f9fa;\n",
        "        color: #2c3e50;\n",
        "        border: 1px solid #ccc;\n",
        "        padding: 15px;\n",
        "        border-radius: 5px;\n",
        "        font-size: 16px;\n",
        "    }\n",
        "    .gr-button-primary {\n",
        "        background: linear-gradient(135deg, #004085, #007BFF);\n",
        "        color: white;\n",
        "        border-radius: 5px;\n",
        "        padding: 16px;\n",
        "        font-weight: bold;\n",
        "        width: 100%;\n",
        "        font-size: 18px;\n",
        "        transition: background 0.3s ease-in-out;\n",
        "    }\n",
        "    .gr-button-primary:hover {\n",
        "        background: #002752;\n",
        "    }\n",
        "\"\"\") as app:\n",
        "\n",
        "    gr.Markdown(\"# Earnings Call Analyzer\")\n",
        "    gr.Markdown(\"### Gain insights into financial performance with AI-driven analysis.\")\n",
        "\n",
        "    with gr.Row():\n",
        "        industry_dropdown = gr.Dropdown(choices=industries_list, label=\"Select Industry\", interactive=True)\n",
        "        ticker_dropdown = gr.Dropdown(choices=tickers_list, label=\"Select Ticker\", interactive=True)\n",
        "\n",
        "    industry_dropdown.change(update_ticker_dropdown, inputs=industry_dropdown, outputs=ticker_dropdown)\n",
        "\n",
        "    with gr.Row():\n",
        "        year_dropdown = gr.Dropdown(choices=year_list, label=\"Select Year\", interactive=True)\n",
        "        quarter_dropdown = gr.Dropdown(choices=quarter_list, label=\"Select Quarter\", interactive=True)\n",
        "\n",
        "    user_query_textbox = gr.Textbox(lines=3, label=\"Ask a question\", interactive=True)\n",
        "    faq_dropdown = gr.Dropdown(choices=faq_questions, label=\"Frequently Asked Questions\", interactive=True)\n",
        "    faq_dropdown.change(lambda q: gr.update(value=q), inputs=faq_dropdown, outputs=user_query_textbox)\n",
        "\n",
        "    submit_btn = gr.Button(\"Analyze\", variant=\"primary\")\n",
        "\n",
        "    with gr.Row():\n",
        "        answer_textbox = gr.Textbox(label=\"Analysis Result\", interactive=False, lines=8)\n",
        "    with gr.Row():\n",
        "        doc_chunks_textbox = gr.Textbox(label=\"Transcript Extracts\", interactive=False, lines=8)\n",
        "    with gr.Row():\n",
        "        doc_date_textbox = gr.Textbox(label=\"Transcript Date\", interactive=False)\n",
        "    with gr.Row():\n",
        "        quality_score_textbox = gr.Textbox(label=\"Quality Score\", interactive=False)\n",
        "\n",
        "    submit_btn.click(\n",
        "        query_and_display,\n",
        "        inputs=[industry_dropdown, ticker_dropdown, year_dropdown, quarter_dropdown, user_query_textbox],\n",
        "        outputs=[answer_textbox, doc_chunks_textbox, doc_date_textbox, quality_score_textbox]\n",
        "    )\n",
        "\n",
        "app.launch(show_error=True)"
      ],
      "metadata": {
        "colab": {
          "base_uri": "https://localhost:8080/",
          "height": 646
        },
        "id": "MiOmEmKPOA3s",
        "outputId": "c029e26c-063d-41b1-fcdb-928b7d0f1173"
      },
      "execution_count": 38,
      "outputs": [
        {
          "output_type": "stream",
          "name": "stdout",
          "text": [
            "Running Gradio in a Colab notebook requires sharing enabled. Automatically setting `share=True` (you can turn this off by setting `share=False` in `launch()` explicitly).\n",
            "\n",
            "Colab notebook detected. To show errors in colab notebook, set debug=True in launch()\n",
            "* Running on public URL: https://9d0d3675d79d7891c7.gradio.live\n",
            "\n",
            "This share link expires in 72 hours. For free permanent hosting and GPU upgrades, run `gradio deploy` from the terminal in the working directory to deploy to Hugging Face Spaces (https://huggingface.co/spaces)\n"
          ]
        },
        {
          "output_type": "display_data",
          "data": {
            "text/plain": [
              "<IPython.core.display.HTML object>"
            ],
            "text/html": [
              "<div><iframe src=\"https://9d0d3675d79d7891c7.gradio.live\" width=\"100%\" height=\"500\" allow=\"autoplay; camera; microphone; clipboard-read; clipboard-write;\" frameborder=\"0\" allowfullscreen></iframe></div>"
            ]
          },
          "metadata": {}
        },
        {
          "output_type": "execute_result",
          "data": {
            "text/plain": []
          },
          "metadata": {},
          "execution_count": 38
        }
      ]
    }
  ],
  "metadata": {
    "colab": {
      "provenance": []
    },
    "kernelspec": {
      "display_name": "dev",
      "language": "python",
      "name": "python3"
    },
    "language_info": {
      "codemirror_mode": {
        "name": "ipython",
        "version": 3
      },
      "file_extension": ".py",
      "mimetype": "text/x-python",
      "name": "python",
      "nbconvert_exporter": "python",
      "pygments_lexer": "ipython3",
      "version": "3.10.13"
    }
  },
  "nbformat": 4,
  "nbformat_minor": 0
}